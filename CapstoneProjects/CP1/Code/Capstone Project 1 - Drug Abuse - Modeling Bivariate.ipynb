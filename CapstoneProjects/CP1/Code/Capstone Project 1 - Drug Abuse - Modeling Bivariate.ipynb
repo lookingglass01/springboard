{
 "cells": [
  {
   "cell_type": "markdown",
   "metadata": {},
   "source": [
    "\"\"Now that we've seen the story that the data tells, it's time to build the model. First we import the libraries and the data file.\"\""
   ]
  },
  {
   "cell_type": "code",
   "execution_count": 1,
   "metadata": {},
   "outputs": [
    {
     "name": "stdout",
     "output_type": "stream",
     "text": [
      "Loaded\n"
     ]
    }
   ],
   "source": [
    "%matplotlib inline\n",
    "import numpy as np\n",
    "import scipy as sp\n",
    "import matplotlib as mpl\n",
    "import matplotlib.cm as cm\n",
    "from matplotlib.colors import ListedColormap\n",
    "import matplotlib.pyplot as plt\n",
    "import pandas as pd\n",
    "import seaborn as sns\n",
    "import sklearn.model_selection\n",
    "from sklearn.model_selection import train_test_split\n",
    "from sklearn.linear_model import LinearRegression\n",
    "from sklearn.model_selection import cross_val_score\n",
    "from sklearn.linear_model import Lasso\n",
    "from sklearn.metrics import classification_report\n",
    "from sklearn.metrics import confusion_matrix\n",
    "from sklearn.linear_model import LogisticRegression\n",
    "from sklearn.metrics import roc_curve\n",
    "from sklearn.model_selection import GridSearchCV\n",
    "from sklearn.preprocessing import scale\n",
    "\n",
    "print(\"Loaded\")"
   ]
  },
  {
   "cell_type": "code",
   "execution_count": 2,
   "metadata": {},
   "outputs": [],
   "source": [
    "df = pd.read_csv (r\"C:\\Users\\Laura-Black\\Documents\\PhD\\Data Scientist\\Springboard\\Capstone Projects\\Drug Abuse ED Visits\\Output files\\Capstone1DataWrangling.csv\", \n",
    "                     index_col=0, low_memory=False)"
   ]
  },
  {
   "cell_type": "code",
   "execution_count": 3,
   "metadata": {},
   "outputs": [
    {
     "name": "stdout",
     "output_type": "stream",
     "text": [
      "The number of data points =\n",
      " METRO           229211\n",
      "STRATA          229211\n",
      "PSU             229211\n",
      "REPLICATE       229211\n",
      "CASEWGT         229211\n",
      "                 ...  \n",
      "ALCOHOL         229211\n",
      "NONALCILL       229211\n",
      "PHARMA          229211\n",
      "NONMEDPHARMA    229211\n",
      "ALLABUSE        229211\n",
      "Length: 86, dtype: int64\n",
      "The number of features =  86\n",
      "The target is Case Type.\n",
      "The number of distinct values in the target =  8\n",
      "They are:  ['Other' 'Adverse Reaction' 'Seeking Detox' 'Suicide Attempt'\n",
      " 'Overmedication' 'Accidential Ingestion' 'Alcohol (Age<21)'\n",
      " 'Malicious Poisoning']\n",
      "The relative size of each class = \n",
      " Adverse Reaction         0.384345\n",
      "Other                    0.382303\n",
      "Overmedication           0.079167\n",
      "Seeking Detox            0.064748\n",
      "Suicide Attempt          0.039409\n",
      "Alcohol (Age<21)         0.032376\n",
      "Accidential Ingestion    0.014192\n",
      "Malicious Poisoning      0.003460\n",
      "Name: CASETYPE, dtype: float64\n"
     ]
    }
   ],
   "source": [
    "print('The number of data points =\\n', df.count())\n",
    "print('The number of features = ',len(df.columns))\n",
    "print('The target is Case Type.')\n",
    "print('The number of distinct values in the target = ', df['CASETYPE'].nunique())\n",
    "print('They are: ',df.CASETYPE.unique())\n",
    "print('The relative size of each class = \\n', df['CASETYPE'].value_counts(normalize=True))"
   ]
  },
  {
   "cell_type": "code",
   "execution_count": 4,
   "metadata": {},
   "outputs": [
    {
     "name": "stdout",
     "output_type": "stream",
     "text": [
      "              METRO  STRATA  PSU  REPLICATE   CASEWGT  PSUFRAME   AGECAT  \\\n",
      "CASEID                                                                     \n",
      "1          New York      25  108          2  0.942635         3    18-20   \n",
      "2          New York      29  129          2  5.992011         9     > 65   \n",
      "3       Date County       7   25          1  4.723172         6     > 65   \n",
      "4           Phoenix       8   29          2  4.080147         6  06-11\\t   \n",
      "5            Boston      22   94          2  5.177709        10    25-29   \n",
      "\n",
      "           SEX      RACE  YEAR  ...       DRUGID_22        ROUTE_22  \\\n",
      "CASEID                          ...                                   \n",
      "1         Male     Black  2011  ...  Not Applicable  Not Applicable   \n",
      "2         Male  Hispanic  2011  ...  Not Applicable  Not Applicable   \n",
      "3       Female     Black  2011  ...  Not Applicable  Not Applicable   \n",
      "4         Male  Hispanic  2011  ...  Not Applicable  Not Applicable   \n",
      "5         Male  Hispanic  2011  ...  Not Applicable  Not Applicable   \n",
      "\n",
      "            TOXTEST_22          CASETYPE        DISPOSITION ALCOHOL  \\\n",
      "CASEID                                                                \n",
      "1       Not Applicable             Other  Detox, Psych Unit     Yes   \n",
      "2       Not Applicable  Adverse Reaction    Other Inpatient      No   \n",
      "3       Not Applicable  Adverse Reaction           D/C Home      No   \n",
      "4       Not Applicable  Adverse Reaction    Other Inpatient      No   \n",
      "5       Not Applicable             Other        Transferred     Yes   \n",
      "\n",
      "               NONALCILL              PHARMA           NONMEDPHARMA  \\\n",
      "CASEID                                                                \n",
      "1          Illicit Drugs  No Pharmaceuticals  No Non-Medical Pharma   \n",
      "2       No Illicit Drugs     Pharmaceuticals  No Non-Medical Pharma   \n",
      "3       No Illicit Drugs     Pharmaceuticals  No Non-Medical Pharma   \n",
      "4       No Illicit Drugs     Pharmaceuticals  No Non-Medical Pharma   \n",
      "5          Illicit Drugs  No Pharmaceuticals  No Non-Medical Pharma   \n",
      "\n",
      "                              ALLABUSE  \n",
      "CASEID                                  \n",
      "1           All Misuse & Abuse Episode  \n",
      "2       Not All Misuse & Abuse Episode  \n",
      "3       Not All Misuse & Abuse Episode  \n",
      "4       Not All Misuse & Abuse Episode  \n",
      "5           All Misuse & Abuse Episode  \n",
      "\n",
      "[5 rows x 86 columns]\n",
      "<class 'pandas.core.frame.DataFrame'>\n",
      "Int64Index: 229211 entries, 1 to 229211\n",
      "Data columns (total 86 columns):\n",
      "METRO           229211 non-null object\n",
      "STRATA          229211 non-null int64\n",
      "PSU             229211 non-null int64\n",
      "REPLICATE       229211 non-null int64\n",
      "CASEWGT         229211 non-null float64\n",
      "PSUFRAME        229211 non-null int64\n",
      "AGECAT          229211 non-null object\n",
      "SEX             229211 non-null object\n",
      "RACE            229211 non-null object\n",
      "YEAR            229211 non-null int64\n",
      "QUARTER         229211 non-null int64\n",
      "DAYPART         229211 non-null object\n",
      "NUMSUBS         229211 non-null int64\n",
      "DRUGID_1        229211 non-null object\n",
      "ROUTE_1         229211 non-null object\n",
      "TOXTEST_1       229211 non-null object\n",
      "DRUGID_2        229211 non-null object\n",
      "ROUTE_2         229211 non-null object\n",
      "TOXTEST_2       229211 non-null object\n",
      "DRUGID_3        229211 non-null object\n",
      "ROUTE_3         229211 non-null object\n",
      "TOXTEST_3       229211 non-null object\n",
      "DRUGID_4        229211 non-null object\n",
      "ROUTE_4         229211 non-null object\n",
      "TOXTEST_4       229211 non-null object\n",
      "DRUGID_5        229211 non-null object\n",
      "ROUTE_5         229211 non-null object\n",
      "TOXTEST_5       229211 non-null object\n",
      "DRUGID_6        229211 non-null object\n",
      "ROUTE_6         229211 non-null object\n",
      "TOXTEST_6       229211 non-null object\n",
      "DRUGID_7        229211 non-null object\n",
      "ROUTE_7         229211 non-null object\n",
      "TOXTEST_7       229211 non-null object\n",
      "DRUGID_8        229211 non-null object\n",
      "ROUTE_8         229211 non-null object\n",
      "TOXTEST_8       229211 non-null object\n",
      "DRUGID_9        229211 non-null object\n",
      "ROUTE_9         229211 non-null object\n",
      "TOXTEST_9       229211 non-null object\n",
      "DRUGID_10       229211 non-null object\n",
      "ROUTE_10        229211 non-null object\n",
      "TOXTEST_10      229211 non-null object\n",
      "DRUGID_11       229211 non-null object\n",
      "ROUTE_11        229211 non-null object\n",
      "TOXTEST_11      229211 non-null object\n",
      "DRUGID_12       229211 non-null object\n",
      "ROUTE_12        229211 non-null object\n",
      "TOXTEST_12      229211 non-null object\n",
      "DRUGID_13       229211 non-null object\n",
      "ROUTE_13        229211 non-null object\n",
      "TOXTEST_13      229211 non-null object\n",
      "DRUGID_14       229211 non-null object\n",
      "ROUTE_14        229211 non-null object\n",
      "TOXTEST_14      229211 non-null object\n",
      "DRUGID_15       229211 non-null object\n",
      "ROUTE_15        229211 non-null object\n",
      "TOXTEST_15      229211 non-null object\n",
      "DRUGID_16       229211 non-null object\n",
      "ROUTE_16        229211 non-null object\n",
      "TOXTEST_16      229211 non-null object\n",
      "DRUGID_17       229211 non-null object\n",
      "ROUTE_17        229211 non-null object\n",
      "TOXTEST_17      229211 non-null object\n",
      "DRUGID_18       229211 non-null object\n",
      "ROUTE_18        229211 non-null object\n",
      "TOXTEST_18      229211 non-null object\n",
      "DRUGID_19       229211 non-null object\n",
      "ROUTE_19        229211 non-null object\n",
      "TOXTEST_19      229211 non-null object\n",
      "DRUGID_20       229211 non-null object\n",
      "ROUTE_20        229211 non-null object\n",
      "TOXTEST_20      229211 non-null object\n",
      "DRUGID_21       229211 non-null object\n",
      "ROUTE_21        229211 non-null object\n",
      "TOXTEST_21      229211 non-null object\n",
      "DRUGID_22       229211 non-null object\n",
      "ROUTE_22        229211 non-null object\n",
      "TOXTEST_22      229211 non-null object\n",
      "CASETYPE        229211 non-null object\n",
      "DISPOSITION     229211 non-null object\n",
      "ALCOHOL         229211 non-null object\n",
      "NONALCILL       229211 non-null object\n",
      "PHARMA          229211 non-null object\n",
      "NONMEDPHARMA    229211 non-null object\n",
      "ALLABUSE        229211 non-null object\n",
      "dtypes: float64(1), int64(7), object(78)\n",
      "memory usage: 152.1+ MB\n",
      "None\n"
     ]
    }
   ],
   "source": [
    "print(df.head())\n",
    "print(df.info())"
   ]
  },
  {
   "cell_type": "markdown",
   "metadata": {},
   "source": [
    "\"\"Now, we will create the design matrix (X) and the target vector (y) for\n",
    "the associated classification problem.\"\""
   ]
  },
  {
   "cell_type": "code",
   "execution_count": 5,
   "metadata": {},
   "outputs": [],
   "source": [
    "x_split = df.drop('CASETYPE', axis=1)\n",
    "\n",
    "X = pd.get_dummies(x_split,drop_first=True)"
   ]
  },
  {
   "cell_type": "code",
   "execution_count": 12,
   "metadata": {},
   "outputs": [
    {
     "name": "stdout",
     "output_type": "stream",
     "text": [
      "CASEID\n",
      "1         Not Adverse Reaction\n",
      "2             Adverse Reaction\n",
      "3             Adverse Reaction\n",
      "4             Adverse Reaction\n",
      "5         Not Adverse Reaction\n",
      "                  ...         \n",
      "229207        Adverse Reaction\n",
      "229208    Not Adverse Reaction\n",
      "229209        Adverse Reaction\n",
      "229210        Adverse Reaction\n",
      "229211        Adverse Reaction\n",
      "Name: CASETYPE-B, Length: 229211, dtype: object\n"
     ]
    }
   ],
   "source": [
    "df['CASETYPE-B'] = np.where(df['CASETYPE'] == 'Adverse Reaction', 'Adverse Reaction', 'Not Adverse Reaction')\n",
    "print(df['CASETYPE-B'])"
   ]
  },
  {
   "cell_type": "code",
   "execution_count": 13,
   "metadata": {},
   "outputs": [],
   "source": [
    "y = df['CASETYPE-B'].values"
   ]
  },
  {
   "cell_type": "markdown",
   "metadata": {},
   "source": [
    "\"\"Next, we will split the data into test and training sets.\"\""
   ]
  },
  {
   "cell_type": "code",
   "execution_count": 14,
   "metadata": {},
   "outputs": [],
   "source": [
    "X_train, X_test, y_train, y_test = train_test_split(X, y, test_size = 0.4, random_state=42, stratify=y)"
   ]
  },
  {
   "cell_type": "code",
   "execution_count": 16,
   "metadata": {},
   "outputs": [
    {
     "data": {
      "text/plain": [
       "[('Not Adverse Reaction', 0.6156581300990358),\n",
       " ('Adverse Reaction', 0.3843418699009642)]"
      ]
     },
     "execution_count": 16,
     "metadata": {},
     "output_type": "execute_result"
    }
   ],
   "source": [
    "from collections import Counter\n",
    "\n",
    "c_train = Counter(y_train)\n",
    "[(i, c_train[i] / len(y_train)) for i in c_train]\n"
   ]
  },
  {
   "cell_type": "code",
   "execution_count": 17,
   "metadata": {},
   "outputs": [
    {
     "data": {
      "text/plain": [
       "[('Not Adverse Reaction', 0.6156514151715111),\n",
       " ('Adverse Reaction', 0.3843485848284888)]"
      ]
     },
     "execution_count": 17,
     "metadata": {},
     "output_type": "execute_result"
    }
   ],
   "source": [
    "c_test = Counter(y_test)\n",
    "[(i, c_test[i] / len(y_test)) for i in c_test]"
   ]
  },
  {
   "cell_type": "code",
   "execution_count": 18,
   "metadata": {},
   "outputs": [
    {
     "name": "stdout",
     "output_type": "stream",
     "text": [
      "Train Set\n",
      "[[51611  1246]\n",
      " [ 2733 81936]]\n",
      "                      precision    recall  f1-score   support\n",
      "\n",
      "    Adverse Reaction       0.95      0.98      0.96     52857\n",
      "Not Adverse Reaction       0.99      0.97      0.98     84669\n",
      "\n",
      "            accuracy                           0.97    137526\n",
      "           macro avg       0.97      0.97      0.97    137526\n",
      "        weighted avg       0.97      0.97      0.97    137526\n",
      "\n",
      "0.9710672890944257\n",
      "Test Set\n",
      "[[34358   881]\n",
      " [ 1893 54553]]\n",
      "                      precision    recall  f1-score   support\n",
      "\n",
      "    Adverse Reaction       0.95      0.97      0.96     35239\n",
      "Not Adverse Reaction       0.98      0.97      0.98     56446\n",
      "\n",
      "            accuracy                           0.97     91685\n",
      "           macro avg       0.97      0.97      0.97     91685\n",
      "        weighted avg       0.97      0.97      0.97     91685\n",
      "\n",
      "0.9697442329715875\n"
     ]
    }
   ],
   "source": [
    "# Create the classifier: logreg\n",
    "logreg = LogisticRegression(multi_class='multinomial',solver='lbfgs', max_iter=1000000000)\n",
    "\n",
    "# Fit the classifier to the training data\n",
    "logreg.fit(X_train, y_train)\n",
    "\n",
    "# Predict the labels of the training and test sets\n",
    "y_pred_test = logreg.predict(X_test)\n",
    "y_pred_train = logreg.predict(X_train)\n",
    "\n",
    "# Compute and print the confusion matrices and classification reports for the Training set\n",
    "print('Train Set')\n",
    "print(confusion_matrix(y_train, y_pred_train))\n",
    "print(classification_report(y_train, y_pred_train))\n",
    "print(logreg.score(X_train,y_train))\n",
    "\n",
    "# Compute and print the confusion matrices and classification reports for the Test set\n",
    "print('Test Set')\n",
    "print(confusion_matrix(y_test, y_pred_test))\n",
    "print(classification_report(y_test, y_pred_test))\n",
    "print(logreg.score(X_test,y_test))\n"
   ]
  },
  {
   "cell_type": "markdown",
   "metadata": {},
   "source": [
    "print('Train Set')\n",
    "print(confusion_matrix(y_train, y_pred_train))\n",
    "print(classification_report(y_train, y_pred_train))\n",
    "print(logreg.score(X_train,y_train))"
   ]
  },
  {
   "cell_type": "markdown",
   "metadata": {},
   "source": [
    "\"\"Both the training set and the test set show an overall accuracy of 0.97. The test set has the following results:\n",
    "\n",
    "Adverse Reactions have a precision of 0.95, and Not Adverse Reaction has a precision of 0.98.\n",
    "\"\""
   ]
  },
  {
   "cell_type": "code",
   "execution_count": 20,
   "metadata": {},
   "outputs": [],
   "source": [
    "import pickle\n",
    "filenameX = 'CP1_Model_X_train_Bivariate'\n",
    "outfile = open(filenameX,'w+b')\n",
    "pickle.dump(X_train,outfile)\n",
    "outfile.close()\n",
    "\n",
    "#X_train, X_test, y_train, y_test"
   ]
  },
  {
   "cell_type": "code",
   "execution_count": 21,
   "metadata": {},
   "outputs": [],
   "source": [
    "filenameXtest = 'CP1_Model_X_test_Bivariate'\n",
    "outfile = open(filenameXtest,'w+b')\n",
    "pickle.dump(X_test,outfile)\n",
    "outfile.close()"
   ]
  },
  {
   "cell_type": "code",
   "execution_count": 22,
   "metadata": {},
   "outputs": [],
   "source": [
    "filenameYtest = 'CP1_Model_y_test_Bivariate'\n",
    "outfile = open(filenameYtest,'wb')\n",
    "pickle.dump(y_test,outfile)\n",
    "outfile.close()"
   ]
  },
  {
   "cell_type": "code",
   "execution_count": 23,
   "metadata": {},
   "outputs": [],
   "source": [
    "filenameYtrain = 'CP1_Model_y_train_Bivariate'\n",
    "outfile = open(filenameYtrain,'wb')\n",
    "pickle.dump(y_train,outfile)\n",
    "outfile.close()"
   ]
  },
  {
   "cell_type": "code",
   "execution_count": null,
   "metadata": {},
   "outputs": [],
   "source": []
  }
 ],
 "metadata": {
  "kernelspec": {
   "display_name": "Python 3",
   "language": "python",
   "name": "python3"
  },
  "language_info": {
   "codemirror_mode": {
    "name": "ipython",
    "version": 3
   },
   "file_extension": ".py",
   "mimetype": "text/x-python",
   "name": "python",
   "nbconvert_exporter": "python",
   "pygments_lexer": "ipython3",
   "version": "3.7.4"
  }
 },
 "nbformat": 4,
 "nbformat_minor": 2
}
