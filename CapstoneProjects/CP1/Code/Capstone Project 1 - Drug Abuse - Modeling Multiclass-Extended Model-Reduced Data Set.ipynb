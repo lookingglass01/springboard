{
 "cells": [
  {
   "cell_type": "markdown",
   "metadata": {},
   "source": [
    "\"\"In this extended model, we will see if we can correct the overfitting, and try a couple of different approaches to get the best model.\"\""
   ]
  },
  {
   "cell_type": "code",
   "execution_count": 1,
   "metadata": {},
   "outputs": [
    {
     "name": "stdout",
     "output_type": "stream",
     "text": [
      "Loaded\n"
     ]
    }
   ],
   "source": [
    "                                                                                                                                                                                                                                                                                                                                                                                                                                                                                                                                                                                                                                                                                                                                                                                                                                                                                                                                                                                                                                                                                                                                                                                                                                                                                                                                                                                                                                                                                                                                                                                                                                                                                                                                                                                                                                                                                                                                                                                                                                                                                                                                                                                                                                                                                                                                                                                                                                                                                                                                                                                                                                                                                                                                                                                                                                                                                                                                                                                                                                                                                                                                                                                                                                                                                                                                                                                                                                                                                                                                                                                                                                                                                                                                                                                                                                                                                                                                                                                                                                                                                                                                                                                                                                                                                                                                                                                                                                                                                                                                                                                                                                                                                                                                                                                                                                                                                                                                                                                                                                                                                                                                                                                                                                                                                                                                                                                                                                                                                                                                                                                                                                                                                                                                                                                                                                                                                                                                                                                                                                                                                                                                                                                                                                                                                                                                                                                                                                                                                                                                                                                                                                                                                                                                                                                                                                                                                                                                                                                                                                                                                                                                                                                                                                                                                                                                                                                                                                                                                                                                                                                                                                                                                                                                                                                                                                                                                                                                                                                                                                                                                                                                                                                                                                                                                                                                                                                                                                                                                                                                                                                                                                                                                                                                                                                                                                                                                                                                                                                                                                                                                                                                                                                                                                                                                                                                                                                                                                                                                                                                                                                                                                                                                                                                                                                                                                                                                                                                                                                                                                                                                                                                                                                                                                                                                                                                                                                                                                                                                                                                                                                                                                                                                                                                                                                                                                                                                                                                                                                                                                                                                                                                                                                                                                                                                                                                                                                                                                                                                                                                                                                                                                                                                                                                                                                                                                                                                                                                                                                                                                                                                                                                                                                                                                                                                                                                                                                                                                                                                                                                                                                                                                                                                                                                                                                                                                                                                                                                                                                                                                                                                                                                                                                                                                                                                                                                                                                                                                                                                                                                                                                                                                                                                                                                                                                                                                                                                                                                                                                                                                                                                                                                                                                                                                                                                                                                                                                                                                                                                                                                                                                                                                                                                                                                                                                                                                                                                                                                                                                                                                                                                                                                                                                                                                                                                                                                                                                                                                                                                                                                                                                                                                                                                                                                                                                                                                                                                                                                                                                                                                                                                                                                                                                                                                                                                                                                                                                                                                                                                                                                                                                                                                                                                                                                                                                                                                                                                                                                                                                                                                                                                                                                                                                                                                                                                                                                                                                                                                                                                                                                                                                                                                                                                                                                                                                                                                                                                                                                                                                                                                                                                                                                                                                                                                                                                                                                                                                                                                                                                                                                                                                                                                                                                                                                                                                                                                                                                                                                                                                                                                                                                                                                                                                                                                                                                                                                                                                                                                                                                                                                                                                                                                                                                                                                                                                                                                                                                                                                                                                                                                                                                                                                                                                                                                                                                                                                                                                                                                                                                                                                                                                                                                                                                                                                                                                                                                                                                                                                                                                                                                                                                                                                                                                                                                                                                                                                                                                                                                                                                                                                                                                                                                                                                                                                                                                                                                                                                                                                                                                                                                                                                                                                                                                                                                                                                                                                                                                                                                                                                                                                                                                                                                                                                                                                                                                                                                                                                                                                                                                                                                                                                                                                                                                                                                                                                                                                                                                                                                                                                                                                                                                                                                                                                                                                                                                                                                                                                                                                                                                                                                                                                                                                                                                                                                                                                                                                                                                                                                                                                                                                                                                                                                                                                                                                                                                                                                                                                                                                                                                                                                                                                                                                                                                                                                                                                                                                                                                                                                                                                                                                                                                                                                                                                                                                                                                                                                                                                                                                                                                                                                                                                                                                                                                                                                                                                                                                                                                                                                                                                                                                                                                                                                                                                                                                                                                                                                                                                                                                                                                                                                                                                                                                                                                                                                                                                                                                                                                                                                                                                                                                                                                                                                                                                                                                                                                                                                                                                                                                                                                                                                                                                                                                                                                                                                                                                                                                                                                                                                                                                                                                                                                                                                                                                                                                                                                                                                                                                                                                                                                                                                                                                                                                                                                                                                                                                                                                                                                                                                                                                                                                                                                                                                                                                                                                                                                                                                                                                                                                                                                                                                                                                                                                                                                                                                                                                                                                                                                                                                                                                                                                                                                                                                                                                                                                                                                                                                                                                                                                                                                                                                                                                                                                                                                                                                                                                                                                                                                                                                                                                                                                                                                                                                                                                                                                                                                                                                                                                                                                                                                                                                                                                                                                                                                                                                                                                                                                                                                                                                                                                                                                                                                                                                                                                                                                                                                                                                                                                                                                                                                                                                                                                                                                                                                                                                                                                                                                                                                                                                                                                                                                                                                                                                                                                                                                                                                                                                                                                                                                                                                                                                                                                                                                                                                                                                                                                                                                                                                                                                                                                                                                                                                                                                                                                                                                                                                                                                                                                                                                                                                                                                                                                                                                                                                                                                                                                                                                                                                                                                                                                                                                                                                                                                                                                                                                                                                                                                                                                                                                                                                                                                                                                                                                                                                                                                                                                                                                                                                                                                                                                                                                                                                                                                                                                                                                                                                                                                                                                                                                                                                                                                                                                                                                                                                                                                                                                                                                                                                                                                                                                                                                                                                                                                                                                                                                                                                                                                                                                                                                                                                                                                                                                                                                                                                                                                                                                                                                                                                                                                                                                                                                                                                                                                                                                                            %matplotlib inline\n",
    "import numpy as np\n",
    "import scipy as sp\n",
    "import matplotlib as mpl\n",
    "import matplotlib.cm as cm\n",
    "from matplotlib.colors import ListedColormap\n",
    "import matplotlib.pyplot as plt\n",
    "import pandas as pd\n",
    "import seaborn as sns\n",
    "import sklearn.model_selection\n",
    "from sklearn.model_selection import train_test_split\n",
    "from sklearn.linear_model import LinearRegression\n",
    "from sklearn.model_selection import cross_val_score\n",
    "from sklearn.linear_model import Lasso\n",
    "from sklearn.metrics import classification_report\n",
    "from sklearn.metrics import confusion_matrix\n",
    "from sklearn.linear_model import LogisticRegression\n",
    "from sklearn.metrics import roc_curve\n",
    "from sklearn.model_selection import GridSearchCV\n",
    "from sklearn.preprocessing import scale\n",
    "\n",
    "print(\"Loaded\")"
   ]
  },
  {
   "cell_type": "code",
   "execution_count": 2,
   "metadata": {},
   "outputs": [],
   "source": [
    "df = pd.read_csv (r\"C:\\Users\\Laura-Black\\Documents\\PhD\\Data Scientist\\Springboard\\Capstone Projects\\Drug Abuse ED Visits\\Output files\\Capstone1DataWrangling.csv\", \n",
    "                     index_col=0, low_memory=False)"
   ]
  },
  {
   "cell_type": "code",
   "execution_count": 3,
   "metadata": {},
   "outputs": [
    {
     "name": "stdout",
     "output_type": "stream",
     "text": [
      "The number of data points =\n",
      " METRO           229211\n",
      "STRATA          229211\n",
      "PSU             229211\n",
      "REPLICATE       229211\n",
      "CASEWGT         229211\n",
      "                 ...  \n",
      "ALCOHOL         229211\n",
      "NONALCILL       229211\n",
      "PHARMA          229211\n",
      "NONMEDPHARMA    229211\n",
      "ALLABUSE        229211\n",
      "Length: 86, dtype: int64\n",
      "The number of features =  86\n",
      "The target is Case Type.\n",
      "The number of distinct values in the target =  8\n",
      "They are:  ['Other' 'Adverse Reaction' 'Seeking Detox' 'Suicide Attempt'\n",
      " 'Overmedication' 'Accidential Ingestion' 'Alcohol (Age<21)'\n",
      " 'Malicious Poisoning']\n",
      "The relative size of each class = \n",
      " Adverse Reaction         0.384345\n",
      "Other                    0.382303\n",
      "Overmedication           0.079167\n",
      "Seeking Detox            0.064748\n",
      "Suicide Attempt          0.039409\n",
      "Alcohol (Age<21)         0.032376\n",
      "Accidential Ingestion    0.014192\n",
      "Malicious Poisoning      0.003460\n",
      "Name: CASETYPE, dtype: float64\n"
     ]
    }
   ],
   "source": [
    "print('The number of data points =\\n', df.count())\n",
    "print('The number of features = ',len(df.columns))\n",
    "print('The target is Case Type.')\n",
    "print('The number of distinct values in the target = ', df['CASETYPE'].nunique())\n",
    "print('They are: ',df.CASETYPE.unique())\n",
    "print('The relative size of each class = \\n', df['CASETYPE'].value_counts(normalize=True))"
   ]
  },
  {
   "cell_type": "code",
   "execution_count": 4,
   "metadata": {},
   "outputs": [
    {
     "name": "stdout",
     "output_type": "stream",
     "text": [
      "              METRO  STRATA  PSU  REPLICATE   CASEWGT  PSUFRAME   AGECAT  \\\n",
      "CASEID                                                                     \n",
      "1          New York      25  108          2  0.942635         3    18-20   \n",
      "2          New York      29  129          2  5.992011         9     > 65   \n",
      "3       Date County       7   25          1  4.723172         6     > 65   \n",
      "4           Phoenix       8   29          2  4.080147         6  06-11\\t   \n",
      "5            Boston      22   94          2  5.177709        10    25-29   \n",
      "\n",
      "           SEX      RACE  YEAR  ...       DRUGID_22        ROUTE_22  \\\n",
      "CASEID                          ...                                   \n",
      "1         Male     Black  2011  ...  Not Applicable  Not Applicable   \n",
      "2         Male  Hispanic  2011  ...  Not Applicable  Not Applicable   \n",
      "3       Female     Black  2011  ...  Not Applicable  Not Applicable   \n",
      "4         Male  Hispanic  2011  ...  Not Applicable  Not Applicable   \n",
      "5         Male  Hispanic  2011  ...  Not Applicable  Not Applicable   \n",
      "\n",
      "            TOXTEST_22          CASETYPE        DISPOSITION ALCOHOL  \\\n",
      "CASEID                                                                \n",
      "1       Not Applicable             Other  Detox, Psych Unit     Yes   \n",
      "2       Not Applicable  Adverse Reaction    Other Inpatient      No   \n",
      "3       Not Applicable  Adverse Reaction           D/C Home      No   \n",
      "4       Not Applicable  Adverse Reaction    Other Inpatient      No   \n",
      "5       Not Applicable             Other        Transferred     Yes   \n",
      "\n",
      "               NONALCILL              PHARMA           NONMEDPHARMA  \\\n",
      "CASEID                                                                \n",
      "1          Illicit Drugs  No Pharmaceuticals  No Non-Medical Pharma   \n",
      "2       No Illicit Drugs     Pharmaceuticals  No Non-Medical Pharma   \n",
      "3       No Illicit Drugs     Pharmaceuticals  No Non-Medical Pharma   \n",
      "4       No Illicit Drugs     Pharmaceuticals  No Non-Medical Pharma   \n",
      "5          Illicit Drugs  No Pharmaceuticals  No Non-Medical Pharma   \n",
      "\n",
      "                              ALLABUSE  \n",
      "CASEID                                  \n",
      "1           All Misuse & Abuse Episode  \n",
      "2       Not All Misuse & Abuse Episode  \n",
      "3       Not All Misuse & Abuse Episode  \n",
      "4       Not All Misuse & Abuse Episode  \n",
      "5           All Misuse & Abuse Episode  \n",
      "\n",
      "[5 rows x 86 columns]\n",
      "<class 'pandas.core.frame.DataFrame'>\n",
      "Int64Index: 229211 entries, 1 to 229211\n",
      "Data columns (total 86 columns):\n",
      "METRO           229211 non-null object\n",
      "STRATA          229211 non-null int64\n",
      "PSU             229211 non-null int64\n",
      "REPLICATE       229211 non-null int64\n",
      "CASEWGT         229211 non-null float64\n",
      "PSUFRAME        229211 non-null int64\n",
      "AGECAT          229211 non-null object\n",
      "SEX             229211 non-null object\n",
      "RACE            229211 non-null object\n",
      "YEAR            229211 non-null int64\n",
      "QUARTER         229211 non-null int64\n",
      "DAYPART         229211 non-null object\n",
      "NUMSUBS         229211 non-null int64\n",
      "DRUGID_1        229211 non-null object\n",
      "ROUTE_1         229211 non-null object\n",
      "TOXTEST_1       229211 non-null object\n",
      "DRUGID_2        229211 non-null object\n",
      "ROUTE_2         229211 non-null object\n",
      "TOXTEST_2       229211 non-null object\n",
      "DRUGID_3        229211 non-null object\n",
      "ROUTE_3         229211 non-null object\n",
      "TOXTEST_3       229211 non-null object\n",
      "DRUGID_4        229211 non-null object\n",
      "ROUTE_4         229211 non-null object\n",
      "TOXTEST_4       229211 non-null object\n",
      "DRUGID_5        229211 non-null object\n",
      "ROUTE_5         229211 non-null object\n",
      "TOXTEST_5       229211 non-null object\n",
      "DRUGID_6        229211 non-null object\n",
      "ROUTE_6         229211 non-null object\n",
      "TOXTEST_6       229211 non-null object\n",
      "DRUGID_7        229211 non-null object\n",
      "ROUTE_7         229211 non-null object\n",
      "TOXTEST_7       229211 non-null object\n",
      "DRUGID_8        229211 non-null object\n",
      "ROUTE_8         229211 non-null object\n",
      "TOXTEST_8       229211 non-null object\n",
      "DRUGID_9        229211 non-null object\n",
      "ROUTE_9         229211 non-null object\n",
      "TOXTEST_9       229211 non-null object\n",
      "DRUGID_10       229211 non-null object\n",
      "ROUTE_10        229211 non-null object\n",
      "TOXTEST_10      229211 non-null object\n",
      "DRUGID_11       229211 non-null object\n",
      "ROUTE_11        229211 non-null object\n",
      "TOXTEST_11      229211 non-null object\n",
      "DRUGID_12       229211 non-null object\n",
      "ROUTE_12        229211 non-null object\n",
      "TOXTEST_12      229211 non-null object\n",
      "DRUGID_13       229211 non-null object\n",
      "ROUTE_13        229211 non-null object\n",
      "TOXTEST_13      229211 non-null object\n",
      "DRUGID_14       229211 non-null object\n",
      "ROUTE_14        229211 non-null object\n",
      "TOXTEST_14      229211 non-null object\n",
      "DRUGID_15       229211 non-null object\n",
      "ROUTE_15        229211 non-null object\n",
      "TOXTEST_15      229211 non-null object\n",
      "DRUGID_16       229211 non-null object\n",
      "ROUTE_16        229211 non-null object\n",
      "TOXTEST_16      229211 non-null object\n",
      "DRUGID_17       229211 non-null object\n",
      "ROUTE_17        229211 non-null object\n",
      "TOXTEST_17      229211 non-null object\n",
      "DRUGID_18       229211 non-null object\n",
      "ROUTE_18        229211 non-null object\n",
      "TOXTEST_18      229211 non-null object\n",
      "DRUGID_19       229211 non-null object\n",
      "ROUTE_19        229211 non-null object\n",
      "TOXTEST_19      229211 non-null object\n",
      "DRUGID_20       229211 non-null object\n",
      "ROUTE_20        229211 non-null object\n",
      "TOXTEST_20      229211 non-null object\n",
      "DRUGID_21       229211 non-null object\n",
      "ROUTE_21        229211 non-null object\n",
      "TOXTEST_21      229211 non-null object\n",
      "DRUGID_22       229211 non-null object\n",
      "ROUTE_22        229211 non-null object\n",
      "TOXTEST_22      229211 non-null object\n",
      "CASETYPE        229211 non-null object\n",
      "DISPOSITION     229211 non-null object\n",
      "ALCOHOL         229211 non-null object\n",
      "NONALCILL       229211 non-null object\n",
      "PHARMA          229211 non-null object\n",
      "NONMEDPHARMA    229211 non-null object\n",
      "ALLABUSE        229211 non-null object\n",
      "dtypes: float64(1), int64(7), object(78)\n",
      "memory usage: 152.1+ MB\n",
      "None\n"
     ]
    }
   ],
   "source": [
    "print(df.head())\n",
    "print(df.info())"
   ]
  },
  {
   "cell_type": "markdown",
   "metadata": {},
   "source": [
    "\"\"Now, we will create the design matrix (X) and the target vector (y) for\n",
    "the associated classification problem.\"\""
   ]
  },
  {
   "cell_type": "code",
   "execution_count": 5,
   "metadata": {},
   "outputs": [],
   "source": [
    "x_split = df.drop('CASETYPE', axis=1)\n",
    "\n",
    "X = pd.get_dummies(x_split,drop_first=True)"
   ]
  },
  {
   "cell_type": "code",
   "execution_count": 6,
   "metadata": {},
   "outputs": [],
   "source": [
    "y = df['CASETYPE'].values"
   ]
  },
  {
   "cell_type": "markdown",
   "metadata": {},
   "source": [
    "\"\"Next, we will split the data into test and training sets.\"\""
   ]
  },
  {
   "cell_type": "code",
   "execution_count": 7,
   "metadata": {},
   "outputs": [],
   "source": [
    "X_train_all, X_test_all, y_train_all, y_test_all = train_test_split(X, y, test_size = 0.5, random_state=42, stratify=y)"
   ]
  },
  {
   "cell_type": "code",
   "execution_count": 8,
   "metadata": {},
   "outputs": [
    {
     "name": "stdout",
     "output_type": "stream",
     "text": [
      "<class 'pandas.core.frame.DataFrame'>\n",
      "Int64Index: 114605 entries, 16884 to 36951\n",
      "Columns: 7621 entries, STRATA to ALLABUSE_Not All Misuse & Abuse Episode\n",
      "dtypes: float64(1), int64(7), uint8(7613)\n",
      "memory usage: 839.9 MB\n",
      "None\n",
      "(114605,)\n",
      "object\n"
     ]
    }
   ],
   "source": [
    "print(X_train_all.info())\n",
    "print(y_train_all.shape)\n",
    "print(y_train_all.dtype)"
   ]
  },
  {
   "cell_type": "code",
   "execution_count": 9,
   "metadata": {},
   "outputs": [
    {
     "name": "stdout",
     "output_type": "stream",
     "text": [
      "The number of data points =\n",
      " STRATA                                     114605\n",
      "PSU                                        114605\n",
      "REPLICATE                                  114605\n",
      "CASEWGT                                    114605\n",
      "PSUFRAME                                   114605\n",
      "                                            ...  \n",
      "ALCOHOL_Yes                                114605\n",
      "NONALCILL_No Illicit Drugs                 114605\n",
      "PHARMA_Pharmaceuticals                     114605\n",
      "NONMEDPHARMA_Non_Medical Pharma            114605\n",
      "ALLABUSE_Not All Misuse & Abuse Episode    114605\n",
      "Length: 7621, dtype: int64\n",
      "The number of features =  7621\n"
     ]
    }
   ],
   "source": [
    "print('The number of data points =\\n', X_train_all.count())\n",
    "print('The number of features = ',len(X_train_all.columns))"
   ]
  },
  {
   "cell_type": "code",
   "execution_count": 10,
   "metadata": {},
   "outputs": [
    {
     "name": "stdout",
     "output_type": "stream",
     "text": [
      "[('Adverse Reaction', 0.38434623271235985), ('Other', 0.38230443697918937), ('Overmedication', 0.07916757558570743), ('Seeking Detox', 0.06474412111164435), ('Alcohol (Age<21)', 0.032372060555822174), ('Suicide Attempt', 0.03940491252563152), ('Accidential Ingestion', 0.01419658828148859), ('Malicious Poisoning', 0.003464072248156712)]\n",
      "Length of y =  114605\n"
     ]
    }
   ],
   "source": [
    "from collections import Counter\n",
    "\n",
    "c_train = Counter(y_train_all)\n",
    "print([(i, c_train[i] / len(y_train_all)) for i in c_train])\n",
    "print('Length of y = ',len(y_train_all))"
   ]
  },
  {
   "cell_type": "markdown",
   "metadata": {},
   "source": [
    "\"\"The first attempt to run SMOTE on the dataset produced a memory error on the computer. Therefore, it was decided to reduce the data set using train_test_split.\"\""
   ]
  },
  {
   "cell_type": "code",
   "execution_count": 11,
   "metadata": {},
   "outputs": [],
   "source": [
    "X_train_all.reset_index(drop = True, inplace = True)\n",
    "y_train_all_df = pd.DataFrame(y_train_all)\n",
    "y_train_all_df.reset_index(drop = True, inplace = True)"
   ]
  },
  {
   "cell_type": "code",
   "execution_count": 12,
   "metadata": {},
   "outputs": [],
   "source": [
    "X_train_reduce, X_test_reduce, y_train_reduce, y_test_reduce = train_test_split(X_train_all, y_train_all, test_size = 0.5, random_state=0, stratify=y_train_all)"
   ]
  },
  {
   "cell_type": "code",
   "execution_count": 13,
   "metadata": {},
   "outputs": [
    {
     "data": {
      "text/plain": [
       "[('Other', 0.3823077728526055),\n",
       " ('Adverse Reaction', 0.3843495864018708),\n",
       " ('Seeking Detox', 0.06474468604935256),\n",
       " ('Overmedication', 0.0791595406792084),\n",
       " ('Accidential Ingestion', 0.014187986457715263),\n",
       " ('Malicious Poisoning', 0.0034728281735367005),\n",
       " ('Suicide Attempt', 0.03940525636103452),\n",
       " ('Alcohol (Age<21)', 0.03237234302467628)]"
      ]
     },
     "execution_count": 13,
     "metadata": {},
     "output_type": "execute_result"
    }
   ],
   "source": [
    "from collections import Counter\n",
    "\n",
    "c_train = Counter(y_train_reduce)\n",
    "[(i, c_train[i] / len(y_train_reduce)) for i in c_train]\n"
   ]
  },
  {
   "cell_type": "code",
   "execution_count": 14,
   "metadata": {},
   "outputs": [
    {
     "data": {
      "text/plain": [
       "[('Adverse Reaction', 0.38434287908137443),\n",
       " ('Other', 0.3823011011639879),\n",
       " ('Overmedication', 0.07917561035198856),\n",
       " ('Suicide Attempt', 0.03940456869622882),\n",
       " ('Alcohol (Age<21)', 0.03237177809189746),\n",
       " ('Seeking Detox', 0.06474355618379492),\n",
       " ('Accidential Ingestion', 0.01420518995515069),\n",
       " ('Malicious Poisoning', 0.0034553164755771948)]"
      ]
     },
     "execution_count": 14,
     "metadata": {},
     "output_type": "execute_result"
    }
   ],
   "source": [
    "c_test = Counter(y_test_reduce)\n",
    "[(i, c_test[i] / len(y_test_reduce)) for i in c_test]"
   ]
  },
  {
   "cell_type": "markdown",
   "metadata": {},
   "source": [
    "\"\"Now we will run the reduced data set through SMOTE to see if we can get better results in our model.\"\""
   ]
  },
  {
   "cell_type": "code",
   "execution_count": 15,
   "metadata": {},
   "outputs": [
    {
     "name": "stdout",
     "output_type": "stream",
     "text": [
      "[('Accidential Ingestion', 22024), ('Adverse Reaction', 22024), ('Alcohol (Age<21)', 22024), ('Malicious Poisoning', 22024), ('Other', 22024), ('Overmedication', 22024), ('Seeking Detox', 22024), ('Suicide Attempt', 22024)]\n"
     ]
    }
   ],
   "source": [
    "from imblearn.over_sampling import SMOTE\n",
    "X_resampled, y_resampled = SMOTE().fit_resample(X_train_reduce, y_train_reduce)\n",
    "print(sorted(Counter(y_resampled).items()))"
   ]
  },
  {
   "cell_type": "code",
   "execution_count": 16,
   "metadata": {},
   "outputs": [],
   "source": [
    "X_train = X_resampled\n",
    "y_train = y_resampled\n",
    "X_test = X_test_reduce\n",
    "y_test = y_test_reduce"
   ]
  },
  {
   "cell_type": "code",
   "execution_count": 17,
   "metadata": {},
   "outputs": [
    {
     "name": "stderr",
     "output_type": "stream",
     "text": [
      "C:\\Users\\Laura-Black\\Anaconda3\\lib\\site-packages\\sklearn\\linear_model\\logistic.py:947: ConvergenceWarning: lbfgs failed to converge. Increase the number of iterations.\n",
      "  \"of iterations.\", ConvergenceWarning)\n"
     ]
    },
    {
     "name": "stdout",
     "output_type": "stream",
     "text": [
      "Train Set\n",
      "[[18635  2906     0    64   128     0     3   288]\n",
      " [ 1896 18601     0     3     2     0   140  1382]\n",
      " [    0     0 22024     0     0     0     0     0]\n",
      " [    0     0     0 20168  1293   540    23     0]\n",
      " [    0     0     0  1336 14353  3545  2711    79]\n",
      " [    0     0     0   370   273 21381     0     0]\n",
      " [   23   774    37    70  2104     0 17698  1318]\n",
      " [  189  1692    92    14   531     0  1265 18241]]\n",
      "                       precision    recall  f1-score   support\n",
      "\n",
      "Accidential Ingestion       0.90      0.85      0.87     22024\n",
      "     Adverse Reaction       0.78      0.84      0.81     22024\n",
      "     Alcohol (Age<21)       0.99      1.00      1.00     22024\n",
      "  Malicious Poisoning       0.92      0.92      0.92     22024\n",
      "                Other       0.77      0.65      0.71     22024\n",
      "       Overmedication       0.84      0.97      0.90     22024\n",
      "        Seeking Detox       0.81      0.80      0.81     22024\n",
      "      Suicide Attempt       0.86      0.83      0.84     22024\n",
      "\n",
      "             accuracy                           0.86    176192\n",
      "            macro avg       0.86      0.86      0.86    176192\n",
      "         weighted avg       0.86      0.86      0.86    176192\n",
      "\n",
      "0.8575928532509989\n",
      "Test Set\n",
      "[[  557   207     0     3    19     0     2    26]\n",
      " [ 1969 18496     0     3     5     0   131  1420]\n",
      " [    0     0  1855     0     0     0     0     0]\n",
      " [    0     0     0   148    42     7     1     0]\n",
      " [    0     0     0  1394 14204  3440  2779    90]\n",
      " [    0     0     0   141   111  4285     0     0]\n",
      " [    8   169     6    13   438     0  2794   282]\n",
      " [   40   247    10     6   107     0   218  1630]]\n",
      "                       precision    recall  f1-score   support\n",
      "\n",
      "Accidential Ingestion       0.22      0.68      0.33       814\n",
      "     Adverse Reaction       0.97      0.84      0.90     22024\n",
      "     Alcohol (Age<21)       0.99      1.00      1.00      1855\n",
      "  Malicious Poisoning       0.09      0.75      0.16       198\n",
      "                Other       0.95      0.65      0.77     21907\n",
      "       Overmedication       0.55      0.94      0.70      4537\n",
      "        Seeking Detox       0.47      0.75      0.58      3710\n",
      "      Suicide Attempt       0.47      0.72      0.57      2258\n",
      "\n",
      "             accuracy                           0.77     57303\n",
      "            macro avg       0.59      0.79      0.62     57303\n",
      "         weighted avg       0.86      0.77      0.79     57303\n",
      "\n",
      "0.7673071217911802\n"
     ]
    }
   ],
   "source": [
    "# Create the classifier: logreg\n",
    "logreg = LogisticRegression(multi_class='multinomial',solver='lbfgs', max_iter=1000000000)\n",
    "\n",
    "# Fit the classifier to the training data\n",
    "logreg.fit(X_train, y_train)\n",
    "\n",
    "# Predict the labels of the training and test sets\n",
    "y_pred_test = logreg.predict(X_test)\n",
    "y_pred_train = logreg.predict(X_train)\n",
    "\n",
    "# Compute and print the confusion matrices and classification reports for the Training set\n",
    "print('Train Set')\n",
    "print(confusion_matrix(y_train, y_pred_train))\n",
    "print(classification_report(y_train, y_pred_train))\n",
    "print(logreg.score(X_train,y_train))\n",
    "\n",
    "# Compute and print the confusion matrices and classification reports for the Test set\n",
    "print('/n Test Set')\n",
    "print(confusion_matrix(y_test, y_pred_test))\n",
    "print(classification_report(y_test, y_pred_test))\n",
    "print(logreg.score(X_test,y_test))\n"
   ]
  },
  {
   "cell_type": "markdown",
   "metadata": {},
   "source": [
    "print('Train Set')\n",
    "print(confusion_matrix(y_train, y_pred_train))\n",
    "print(classification_report(y_train, y_pred_train))\n",
    "print(logreg.score(X_train,y_train))"
   ]
  },
  {
   "cell_type": "markdown",
   "metadata": {},
   "source": [
    "\"\"Both the training set and the test set show an overall accuracy of 0.77. The test set has the following results:\n",
    "1. Accidental Ingestion: 22% of the predictions were correct. \n",
    "2. Adverse Reaction: 97% of the predictions were correct.\n",
    "3. Alcohol (<21): 99% of the predictions were correct. Because there are so few of these cases, it is odd that the precision is high. There is a possibility of overfitting, but the recall is not good so there is no way to correct it.\n",
    "4. Malicious Poisoning: 9% of the predictions were correct. The accuracy of this class is affected by the low number of cases in the data set. More cases in this class would have resulted in a higher prediction rate.\n",
    "5. Other: 95% of the predictions were correct.\n",
    "6. Overmedication: 55% of the predictions were correct.\n",
    "7. Seeking Detox: 47% of the predictions were correct.\n",
    "8. Suicide Attempt: 47% of the predictions were correct."
   ]
  },
  {
   "cell_type": "code",
   "execution_count": 18,
   "metadata": {},
   "outputs": [],
   "source": [
    "import pickle\n",
    "filenameX = 'CP1_Model_X_train_reduce'\n",
    "outfile = open(filenameX,'w+b')\n",
    "pickle.dump(X_train,outfile, protocol=4)\n",
    "outfile.close()\n",
    "\n",
    "#X_train, X_test, y_train, y_test"
   ]
  },
  {
   "cell_type": "code",
   "execution_count": 19,
   "metadata": {},
   "outputs": [],
   "source": [
    "filenameXtest = 'CP1_Model_X_test_reduce'\n",
    "outfile = open(filenameXtest,'w+b')\n",
    "pickle.dump(X_test,outfile)\n",
    "outfile.close()"
   ]
  },
  {
   "cell_type": "code",
   "execution_count": 20,
   "metadata": {},
   "outputs": [],
   "source": [
    "filenameYtest = 'CP1_Model_y_test_reduce'\n",
    "outfile = open(filenameYtest,'wb')\n",
    "pickle.dump(y_test,outfile)\n",
    "outfile.close()"
   ]
  },
  {
   "cell_type": "code",
   "execution_count": 21,
   "metadata": {},
   "outputs": [],
   "source": [
    "filenameYtrain = 'CP1_Model_y_train_reduce'\n",
    "outfile = open(filenameYtrain,'wb')\n",
    "pickle.dump(y_train,outfile)\n",
    "outfile.close()"
   ]
  },
  {
   "cell_type": "markdown",
   "metadata": {},
   "source": [
    "\"\"After seeing the results of the reduced data set on the Logistic Regression model, it was decided to use Random Forest to see if the results improve.\"\""
   ]
  },
  {
   "cell_type": "code",
   "execution_count": 22,
   "metadata": {},
   "outputs": [],
   "source": [
    "#Random Forest\n",
    "#Import Random Forest Model\n",
    "from sklearn.ensemble import RandomForestClassifier\n",
    "\n",
    "#Create a Gaussian Classifier\n",
    "clf=RandomForestClassifier(n_estimators=100, oob_score=True)\n",
    "\n",
    "#Train the model using the training sets y_pred=clf.predict(X_test)\n",
    "clf.fit(X_train,y_train)\n",
    "\n",
    "y_pred_test_rf=clf.predict(X_test)"
   ]
  },
  {
   "cell_type": "code",
   "execution_count": 24,
   "metadata": {},
   "outputs": [
    {
     "name": "stdout",
     "output_type": "stream",
     "text": [
      "Accuracy: 0.8604436067919655\n"
     ]
    }
   ],
   "source": [
    "#Import scikit-learn metrics module for accuracy calculation\n",
    "from sklearn import metrics\n",
    "# Model Accuracy, how often is the classifier correct?\n",
    "print(\"Accuracy:\",metrics.accuracy_score(y_test, y_pred_test_rf))"
   ]
  },
  {
   "cell_type": "code",
   "execution_count": 25,
   "metadata": {},
   "outputs": [
    {
     "name": "stdout",
     "output_type": "stream",
     "text": [
      "Random Forest Test Set\n",
      "[[   32   754     0     0    25     0     0     3]\n",
      " [    5 21772     0     0    75     8    29   135]\n",
      " [    0     0  1854     0     0     0     1     0]\n",
      " [    0     0     0    53   138     7     0     0]\n",
      " [    0     2     0     8 20427  1180   290     0]\n",
      " [    0    19     0     2  1528  2985     0     3]\n",
      " [    0   430     6     0  1566     4  1645    59]\n",
      " [    2  1178    10     0   421    20    89   538]]\n",
      "                       precision    recall  f1-score   support\n",
      "\n",
      "Accidential Ingestion       0.82      0.04      0.08       814\n",
      "     Adverse Reaction       0.90      0.99      0.94     22024\n",
      "     Alcohol (Age<21)       0.99      1.00      1.00      1855\n",
      "  Malicious Poisoning       0.84      0.27      0.41       198\n",
      "                Other       0.84      0.93      0.89     21907\n",
      "       Overmedication       0.71      0.66      0.68      4537\n",
      "        Seeking Detox       0.80      0.44      0.57      3710\n",
      "      Suicide Attempt       0.73      0.24      0.36      2258\n",
      "\n",
      "             accuracy                           0.86     57303\n",
      "            macro avg       0.83      0.57      0.61     57303\n",
      "         weighted avg       0.85      0.86      0.84     57303\n",
      "\n",
      "0.8604436067919655\n"
     ]
    }
   ],
   "source": [
    "print('Random Forest Test Set')\n",
    "print(confusion_matrix(y_test, y_pred_test_rf))\n",
    "print(classification_report(y_test, y_pred_test_rf))\n",
    "print(clf.score(X_test,y_test))"
   ]
  },
  {
   "cell_type": "code",
   "execution_count": 26,
   "metadata": {},
   "outputs": [
    {
     "name": "stdout",
     "output_type": "stream",
     "text": [
      "0.96606542862332\n"
     ]
    }
   ],
   "source": [
    "print(clf.oob_score_)"
   ]
  },
  {
   "cell_type": "markdown",
   "metadata": {},
   "source": [
    "\"\"The results of the Random Forest model indicate that there is some overfitting. Therefore, it was decided to do a Randomized Search to tune the hyperparameters.\"\" "
   ]
  },
  {
   "cell_type": "code",
   "execution_count": 32,
   "metadata": {},
   "outputs": [
    {
     "name": "stderr",
     "output_type": "stream",
     "text": [
      "C:\\Users\\Laura-Black\\Anaconda3\\lib\\site-packages\\sklearn\\model_selection\\_split.py:1978: FutureWarning: The default value of cv will change from 3 to 5 in version 0.22. Specify it explicitly to silence this warning.\n",
      "  warnings.warn(CV_WARNING, FutureWarning)\n"
     ]
    },
    {
     "data": {
      "text/plain": [
       "{'random_state': 42,\n",
       " 'n_estimators': 1200,\n",
       " 'max_features': 100,\n",
       " 'max_depth': 20}"
      ]
     },
     "execution_count": 32,
     "metadata": {},
     "output_type": "execute_result"
    }
   ],
   "source": [
    "from sklearn.model_selection import RandomizedSearchCV\n",
    "from scipy.stats import uniform\n",
    "\n",
    "distributions = {'n_estimators': [100, 300, 500, 750, 800, 1200], 'max_depth': [5,10,15,20,30], 'max_features': [10,20,30,40,50,60,70,80,90,100], 'random_state': [42]}\n",
    "rscv = RandomizedSearchCV(clf, distributions, random_state=0)\n",
    "search = rscv.fit(X_train, y_train)\n",
    "search.best_params_"
   ]
  },
  {
   "cell_type": "code",
   "execution_count": 33,
   "metadata": {},
   "outputs": [],
   "source": [
    "clf=RandomForestClassifier(n_estimators=1200, oob_score=True, random_state=42, max_features=100, max_depth=20)\n",
    "\n",
    "#Train the model using the training sets y_pred=clf.predict(X_test)\n",
    "clf.fit(X_train,y_train)\n",
    "\n",
    "y_pred_test_rf=clf.predict(X_test)"
   ]
  },
  {
   "cell_type": "code",
   "execution_count": 34,
   "metadata": {},
   "outputs": [
    {
     "name": "stdout",
     "output_type": "stream",
     "text": [
      "Random Forest Tuned\n",
      "[[  245   501     0     0    25     0     0    43]\n",
      " [  755 20332     0    35    64     8    70   760]\n",
      " [    0     0  1855     0     0     0     0     0]\n",
      " [    0     0     0    79    89    30     0     0]\n",
      " [    0     0     1   204 16476  3772  1452     2]\n",
      " [    0    12     0    90   179  4252     0     4]\n",
      " [   19   388     6    11   917     0  2228   141]\n",
      " [  103   779    10    17   306     3   151   889]]\n",
      "                       precision    recall  f1-score   support\n",
      "\n",
      "Accidential Ingestion       0.22      0.30      0.25       814\n",
      "     Adverse Reaction       0.92      0.92      0.92     22024\n",
      "     Alcohol (Age<21)       0.99      1.00      1.00      1855\n",
      "  Malicious Poisoning       0.18      0.40      0.25       198\n",
      "                Other       0.91      0.75      0.82     21907\n",
      "       Overmedication       0.53      0.94      0.67      4537\n",
      "        Seeking Detox       0.57      0.60      0.59      3710\n",
      "      Suicide Attempt       0.48      0.39      0.43      2258\n",
      "\n",
      "             accuracy                           0.81     57303\n",
      "            macro avg       0.60      0.66      0.62     57303\n",
      "         weighted avg       0.84      0.81      0.82     57303\n",
      "\n",
      "0.8089628815245276\n"
     ]
    }
   ],
   "source": [
    "print('Random Forest Tuned')\n",
    "print(confusion_matrix(y_test, y_pred_test_rf))\n",
    "print(classification_report(y_test, y_pred_test_rf))\n",
    "print(clf.score(X_test,y_test))"
   ]
  },
  {
   "cell_type": "markdown",
   "metadata": {},
   "source": [
    "\"\"Neither of the models that were corrected for overfitting: the Logistic Rgression with the Reduced Data Set and the Random Forest with Hyperparameter Tuning are as accurate as we would like them to be. The over all accuracy of the LR model is 0.77 and for the RF model is 0.81. They both predict the cases with smaller numbers poorly, and both overfit the Alcohol (Age<21). \n",
    "\n",
    "It would be preferrable to do some more fine tuning and re-run the models; however, time does not permit us to do it right now. \"\""
   ]
  }
 ],
 "metadata": {
  "kernelspec": {
   "display_name": "Python 3",
   "language": "python",
   "name": "python3"
  }
 },
 "nbformat": 4,
 "nbformat_minor": 2
}
