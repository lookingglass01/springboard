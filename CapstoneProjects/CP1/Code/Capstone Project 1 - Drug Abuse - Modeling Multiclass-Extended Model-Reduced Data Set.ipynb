{
 "cells": [
  {
   "cell_type": "markdown",
   "metadata": {},
   "source": [
    "\"\"Now that we've seen the story that the data tells, it's time to build the model. First we import the libraries and the data file.\"\""
   ]
  },
  {
   "cell_type": "code",
   "execution_count": 1,
   "metadata": {},
   "outputs": [
    {
     "name": "stdout",
     "output_type": "stream",
     "text": [
      "Loaded\n"
     ]
    }
   ],
   "source": [
    "%matplotlib inline\n",
    "import numpy as np\n",
    "import scipy as sp\n",
    "import matplotlib as mpl\n",
    "import matplotlib.cm as cm\n",
    "from matplotlib.colors import ListedColormap\n",
    "import matplotlib.pyplot as plt\n",
    "import pandas as pd\n",
    "import seaborn as sns\n",
    "import sklearn.model_selection\n",
    "from sklearn.model_selection import train_test_split\n",
    "from sklearn.linear_model import LinearRegression\n",
    "from sklearn.model_selection import cross_val_score\n",
    "from sklearn.linear_model import Lasso\n",
    "from sklearn.metrics import classification_report\n",
    "from sklearn.metrics import confusion_matrix\n",
    "from sklearn.linear_model import LogisticRegression\n",
    "from sklearn.metrics import roc_curve\n",
    "from sklearn.model_selection import GridSearchCV\n",
    "from sklearn.preprocessing import scale\n",
    "\n",
    "print(\"Loaded\")"
   ]
  },
  {
   "cell_type": "code",
   "execution_count": 2,
   "metadata": {},
   "outputs": [],
   "source": [
    "df = pd.read_csv (r\"C:\\Users\\Laura-Black\\Documents\\PhD\\Data Scientist\\Springboard\\Capstone Projects\\Drug Abuse ED Visits\\Output files\\Capstone1DataWrangling.csv\", \n",
    "                     index_col=0, low_memory=False)"
   ]
  },
  {
   "cell_type": "code",
   "execution_count": 3,
   "metadata": {},
   "outputs": [
    {
     "name": "stdout",
     "output_type": "stream",
     "text": [
      "The number of data points =\n",
      " METRO           229211\n",
      "STRATA          229211\n",
      "PSU             229211\n",
      "REPLICATE       229211\n",
      "CASEWGT         229211\n",
      "                 ...  \n",
      "ALCOHOL         229211\n",
      "NONALCILL       229211\n",
      "PHARMA          229211\n",
      "NONMEDPHARMA    229211\n",
      "ALLABUSE        229211\n",
      "Length: 86, dtype: int64\n",
      "The number of features =  86\n",
      "The target is Case Type.\n",
      "The number of distinct values in the target =  8\n",
      "They are:  ['Other' 'Adverse Reaction' 'Seeking Detox' 'Suicide Attempt'\n",
      " 'Overmedication' 'Accidential Ingestion' 'Alcohol (Age<21)'\n",
      " 'Malicious Poisoning']\n",
      "The relative size of each class = \n",
      " Adverse Reaction         0.384345\n",
      "Other                    0.382303\n",
      "Overmedication           0.079167\n",
      "Seeking Detox            0.064748\n",
      "Suicide Attempt          0.039409\n",
      "Alcohol (Age<21)         0.032376\n",
      "Accidential Ingestion    0.014192\n",
      "Malicious Poisoning      0.003460\n",
      "Name: CASETYPE, dtype: float64\n"
     ]
    }
   ],
   "source": [
    "print('The number of data points =\\n', df.count())\n",
    "print('The number of features = ',len(df.columns))\n",
    "print('The target is Case Type.')\n",
    "print('The number of distinct values in the target = ', df['CASETYPE'].nunique())\n",
    "print('They are: ',df.CASETYPE.unique())\n",
    "print('The relative size of each class = \\n', df['CASETYPE'].value_counts(normalize=True))"
   ]
  },
  {
   "cell_type": "code",
   "execution_count": 4,
   "metadata": {},
   "outputs": [
    {
     "name": "stdout",
     "output_type": "stream",
     "text": [
      "              METRO  STRATA  PSU  REPLICATE   CASEWGT  PSUFRAME   AGECAT  \\\n",
      "CASEID                                                                     \n",
      "1          New York      25  108          2  0.942635         3    18-20   \n",
      "2          New York      29  129          2  5.992011         9     > 65   \n",
      "3       Date County       7   25          1  4.723172         6     > 65   \n",
      "4           Phoenix       8   29          2  4.080147         6  06-11\\t   \n",
      "5            Boston      22   94          2  5.177709        10    25-29   \n",
      "\n",
      "           SEX      RACE  YEAR  ...       DRUGID_22        ROUTE_22  \\\n",
      "CASEID                          ...                                   \n",
      "1         Male     Black  2011  ...  Not Applicable  Not Applicable   \n",
      "2         Male  Hispanic  2011  ...  Not Applicable  Not Applicable   \n",
      "3       Female     Black  2011  ...  Not Applicable  Not Applicable   \n",
      "4         Male  Hispanic  2011  ...  Not Applicable  Not Applicable   \n",
      "5         Male  Hispanic  2011  ...  Not Applicable  Not Applicable   \n",
      "\n",
      "            TOXTEST_22          CASETYPE        DISPOSITION ALCOHOL  \\\n",
      "CASEID                                                                \n",
      "1       Not Applicable             Other  Detox, Psych Unit     Yes   \n",
      "2       Not Applicable  Adverse Reaction    Other Inpatient      No   \n",
      "3       Not Applicable  Adverse Reaction           D/C Home      No   \n",
      "4       Not Applicable  Adverse Reaction    Other Inpatient      No   \n",
      "5       Not Applicable             Other        Transferred     Yes   \n",
      "\n",
      "               NONALCILL              PHARMA           NONMEDPHARMA  \\\n",
      "CASEID                                                                \n",
      "1          Illicit Drugs  No Pharmaceuticals  No Non-Medical Pharma   \n",
      "2       No Illicit Drugs     Pharmaceuticals  No Non-Medical Pharma   \n",
      "3       No Illicit Drugs     Pharmaceuticals  No Non-Medical Pharma   \n",
      "4       No Illicit Drugs     Pharmaceuticals  No Non-Medical Pharma   \n",
      "5          Illicit Drugs  No Pharmaceuticals  No Non-Medical Pharma   \n",
      "\n",
      "                              ALLABUSE  \n",
      "CASEID                                  \n",
      "1           All Misuse & Abuse Episode  \n",
      "2       Not All Misuse & Abuse Episode  \n",
      "3       Not All Misuse & Abuse Episode  \n",
      "4       Not All Misuse & Abuse Episode  \n",
      "5           All Misuse & Abuse Episode  \n",
      "\n",
      "[5 rows x 86 columns]\n",
      "<class 'pandas.core.frame.DataFrame'>\n",
      "Int64Index: 229211 entries, 1 to 229211\n",
      "Data columns (total 86 columns):\n",
      "METRO           229211 non-null object\n",
      "STRATA          229211 non-null int64\n",
      "PSU             229211 non-null int64\n",
      "REPLICATE       229211 non-null int64\n",
      "CASEWGT         229211 non-null float64\n",
      "PSUFRAME        229211 non-null int64\n",
      "AGECAT          229211 non-null object\n",
      "SEX             229211 non-null object\n",
      "RACE            229211 non-null object\n",
      "YEAR            229211 non-null int64\n",
      "QUARTER         229211 non-null int64\n",
      "DAYPART         229211 non-null object\n",
      "NUMSUBS         229211 non-null int64\n",
      "DRUGID_1        229211 non-null object\n",
      "ROUTE_1         229211 non-null object\n",
      "TOXTEST_1       229211 non-null object\n",
      "DRUGID_2        229211 non-null object\n",
      "ROUTE_2         229211 non-null object\n",
      "TOXTEST_2       229211 non-null object\n",
      "DRUGID_3        229211 non-null object\n",
      "ROUTE_3         229211 non-null object\n",
      "TOXTEST_3       229211 non-null object\n",
      "DRUGID_4        229211 non-null object\n",
      "ROUTE_4         229211 non-null object\n",
      "TOXTEST_4       229211 non-null object\n",
      "DRUGID_5        229211 non-null object\n",
      "ROUTE_5         229211 non-null object\n",
      "TOXTEST_5       229211 non-null object\n",
      "DRUGID_6        229211 non-null object\n",
      "ROUTE_6         229211 non-null object\n",
      "TOXTEST_6       229211 non-null object\n",
      "DRUGID_7        229211 non-null object\n",
      "ROUTE_7         229211 non-null object\n",
      "TOXTEST_7       229211 non-null object\n",
      "DRUGID_8        229211 non-null object\n",
      "ROUTE_8         229211 non-null object\n",
      "TOXTEST_8       229211 non-null object\n",
      "DRUGID_9        229211 non-null object\n",
      "ROUTE_9         229211 non-null object\n",
      "TOXTEST_9       229211 non-null object\n",
      "DRUGID_10       229211 non-null object\n",
      "ROUTE_10        229211 non-null object\n",
      "TOXTEST_10      229211 non-null object\n",
      "DRUGID_11       229211 non-null object\n",
      "ROUTE_11        229211 non-null object\n",
      "TOXTEST_11      229211 non-null object\n",
      "DRUGID_12       229211 non-null object\n",
      "ROUTE_12        229211 non-null object\n",
      "TOXTEST_12      229211 non-null object\n",
      "DRUGID_13       229211 non-null object\n",
      "ROUTE_13        229211 non-null object\n",
      "TOXTEST_13      229211 non-null object\n",
      "DRUGID_14       229211 non-null object\n",
      "ROUTE_14        229211 non-null object\n",
      "TOXTEST_14      229211 non-null object\n",
      "DRUGID_15       229211 non-null object\n",
      "ROUTE_15        229211 non-null object\n",
      "TOXTEST_15      229211 non-null object\n",
      "DRUGID_16       229211 non-null object\n",
      "ROUTE_16        229211 non-null object\n",
      "TOXTEST_16      229211 non-null object\n",
      "DRUGID_17       229211 non-null object\n",
      "ROUTE_17        229211 non-null object\n",
      "TOXTEST_17      229211 non-null object\n",
      "DRUGID_18       229211 non-null object\n",
      "ROUTE_18        229211 non-null object\n",
      "TOXTEST_18      229211 non-null object\n",
      "DRUGID_19       229211 non-null object\n",
      "ROUTE_19        229211 non-null object\n",
      "TOXTEST_19      229211 non-null object\n",
      "DRUGID_20       229211 non-null object\n",
      "ROUTE_20        229211 non-null object\n",
      "TOXTEST_20      229211 non-null object\n",
      "DRUGID_21       229211 non-null object\n",
      "ROUTE_21        229211 non-null object\n",
      "TOXTEST_21      229211 non-null object\n",
      "DRUGID_22       229211 non-null object\n",
      "ROUTE_22        229211 non-null object\n",
      "TOXTEST_22      229211 non-null object\n",
      "CASETYPE        229211 non-null object\n",
      "DISPOSITION     229211 non-null object\n",
      "ALCOHOL         229211 non-null object\n",
      "NONALCILL       229211 non-null object\n",
      "PHARMA          229211 non-null object\n",
      "NONMEDPHARMA    229211 non-null object\n",
      "ALLABUSE        229211 non-null object\n",
      "dtypes: float64(1), int64(7), object(78)\n",
      "memory usage: 152.1+ MB\n",
      "None\n"
     ]
    }
   ],
   "source": [
    "print(df.head())\n",
    "print(df.info())"
   ]
  },
  {
   "cell_type": "markdown",
   "metadata": {},
   "source": [
    "\"\"Now, we will create the design matrix (X) and the target vector (y) for\n",
    "the associated classification problem.\"\""
   ]
  },
  {
   "cell_type": "code",
   "execution_count": 5,
   "metadata": {},
   "outputs": [],
   "source": [
    "x_split = df.drop('CASETYPE', axis=1)\n",
    "\n",
    "X = pd.get_dummies(x_split,drop_first=True)"
   ]
  },
  {
   "cell_type": "code",
   "execution_count": 6,
   "metadata": {},
   "outputs": [],
   "source": [
    "y = df['CASETYPE'].values"
   ]
  },
  {
   "cell_type": "markdown",
   "metadata": {},
   "source": [
    "\"\"Next, we will split the data into test and training sets.\"\""
   ]
  },
  {
   "cell_type": "code",
   "execution_count": 7,
   "metadata": {},
   "outputs": [],
   "source": [
    "X_train_all, X_test_all, y_train_all, y_test_all = train_test_split(X, y, test_size = 0.5, random_state=42, stratify=y)"
   ]
  },
  {
   "cell_type": "code",
   "execution_count": 8,
   "metadata": {},
   "outputs": [
    {
     "name": "stdout",
     "output_type": "stream",
     "text": [
      "<class 'pandas.core.frame.DataFrame'>\n",
      "Int64Index: 114605 entries, 16884 to 36951\n",
      "Columns: 7621 entries, STRATA to ALLABUSE_Not All Misuse & Abuse Episode\n",
      "dtypes: float64(1), int64(7), uint8(7613)\n",
      "memory usage: 839.9 MB\n",
      "None\n",
      "(114605,)\n"
     ]
    }
   ],
   "source": [
    "print(X_train_all.info())\n",
    "print(y_train_all.shape)"
   ]
  },
  {
   "cell_type": "code",
   "execution_count": 10,
   "metadata": {},
   "outputs": [
    {
     "name": "stdout",
     "output_type": "stream",
     "text": [
      "The number of data points =\n",
      " STRATA                                     114605\n",
      "PSU                                        114605\n",
      "REPLICATE                                  114605\n",
      "CASEWGT                                    114605\n",
      "PSUFRAME                                   114605\n",
      "                                            ...  \n",
      "ALCOHOL_Yes                                114605\n",
      "NONALCILL_No Illicit Drugs                 114605\n",
      "PHARMA_Pharmaceuticals                     114605\n",
      "NONMEDPHARMA_Non_Medical Pharma            114605\n",
      "ALLABUSE_Not All Misuse & Abuse Episode    114605\n",
      "Length: 7621, dtype: int64\n",
      "The number of features =  7621\n"
     ]
    }
   ],
   "source": [
    "print('The number of data points =\\n', X_train_all.count())\n",
    "print('The number of features = ',len(X_train_all.columns))\n",
    "#print('The target is Case Type.')\n",
    "#print('The number of distinct values in the target = ', df['CASETYPE'].nunique())\n",
    "#print('They are: ',df.CASETYPE.unique())\n",
    "#print('The relative size of each class = \\n', df['CASETYPE'].value_counts(normalize=True))"
   ]
  },
  {
   "cell_type": "code",
   "execution_count": 14,
   "metadata": {},
   "outputs": [
    {
     "name": "stdout",
     "output_type": "stream",
     "text": [
      "[('Adverse Reaction', 0.38434623271235985), ('Other', 0.38230443697918937), ('Overmedication', 0.07916757558570743), ('Seeking Detox', 0.06474412111164435), ('Alcohol (Age<21)', 0.032372060555822174), ('Suicide Attempt', 0.03940491252563152), ('Accidential Ingestion', 0.01419658828148859), ('Malicious Poisoning', 0.003464072248156712)]\n",
      "Length of y =  114605\n"
     ]
    }
   ],
   "source": [
    "from collections import Counter\n",
    "\n",
    "c_train = Counter(y_train_all)\n",
    "print([(i, c_train[i] / len(y_train_all)) for i in c_train])\n",
    "print('Length of y = ',len(y_train_all))"
   ]
  },
  {
   "cell_type": "code",
   "execution_count": 18,
   "metadata": {},
   "outputs": [
    {
     "ename": "ValueError",
     "evalue": "Found input variables with inconsistent numbers of samples: [114605, 229211]",
     "output_type": "error",
     "traceback": [
      "\u001b[1;31m---------------------------------------------------------------------------\u001b[0m",
      "\u001b[1;31mValueError\u001b[0m                                Traceback (most recent call last)",
      "\u001b[1;32m<ipython-input-18-93bb33d27886>\u001b[0m in \u001b[0;36m<module>\u001b[1;34m\u001b[0m\n\u001b[1;32m----> 1\u001b[1;33m \u001b[0mX_train_reduce\u001b[0m\u001b[1;33m,\u001b[0m \u001b[0mX_test_reduce\u001b[0m\u001b[1;33m,\u001b[0m \u001b[0my_train_reduce\u001b[0m\u001b[1;33m,\u001b[0m \u001b[0my_test_reduce\u001b[0m \u001b[1;33m=\u001b[0m \u001b[0mtrain_test_split\u001b[0m\u001b[1;33m(\u001b[0m\u001b[0mX_train_all\u001b[0m\u001b[1;33m,\u001b[0m \u001b[0my_train_all\u001b[0m\u001b[1;33m,\u001b[0m \u001b[0mtest_size\u001b[0m \u001b[1;33m=\u001b[0m \u001b[1;36m0.5\u001b[0m\u001b[1;33m,\u001b[0m \u001b[0mrandom_state\u001b[0m\u001b[1;33m=\u001b[0m\u001b[1;36m0\u001b[0m\u001b[1;33m,\u001b[0m \u001b[0mstratify\u001b[0m\u001b[1;33m=\u001b[0m\u001b[0my\u001b[0m\u001b[1;33m)\u001b[0m\u001b[1;33m\u001b[0m\u001b[1;33m\u001b[0m\u001b[0m\n\u001b[0m",
      "\u001b[1;32m~\\Anaconda3\\lib\\site-packages\\sklearn\\model_selection\\_split.py\u001b[0m in \u001b[0;36mtrain_test_split\u001b[1;34m(*arrays, **options)\u001b[0m\n\u001b[0;32m   2119\u001b[0m                      random_state=random_state)\n\u001b[0;32m   2120\u001b[0m \u001b[1;33m\u001b[0m\u001b[0m\n\u001b[1;32m-> 2121\u001b[1;33m         \u001b[0mtrain\u001b[0m\u001b[1;33m,\u001b[0m \u001b[0mtest\u001b[0m \u001b[1;33m=\u001b[0m \u001b[0mnext\u001b[0m\u001b[1;33m(\u001b[0m\u001b[0mcv\u001b[0m\u001b[1;33m.\u001b[0m\u001b[0msplit\u001b[0m\u001b[1;33m(\u001b[0m\u001b[0mX\u001b[0m\u001b[1;33m=\u001b[0m\u001b[0marrays\u001b[0m\u001b[1;33m[\u001b[0m\u001b[1;36m0\u001b[0m\u001b[1;33m]\u001b[0m\u001b[1;33m,\u001b[0m \u001b[0my\u001b[0m\u001b[1;33m=\u001b[0m\u001b[0mstratify\u001b[0m\u001b[1;33m)\u001b[0m\u001b[1;33m)\u001b[0m\u001b[1;33m\u001b[0m\u001b[1;33m\u001b[0m\u001b[0m\n\u001b[0m\u001b[0;32m   2122\u001b[0m \u001b[1;33m\u001b[0m\u001b[0m\n\u001b[0;32m   2123\u001b[0m     return list(chain.from_iterable((safe_indexing(a, train),\n",
      "\u001b[1;32m~\\Anaconda3\\lib\\site-packages\\sklearn\\model_selection\\_split.py\u001b[0m in \u001b[0;36msplit\u001b[1;34m(self, X, y, groups)\u001b[0m\n\u001b[0;32m   1320\u001b[0m         \u001b[0mto\u001b[0m \u001b[0man\u001b[0m \u001b[0minteger\u001b[0m\u001b[1;33m.\u001b[0m\u001b[1;33m\u001b[0m\u001b[1;33m\u001b[0m\u001b[0m\n\u001b[0;32m   1321\u001b[0m         \"\"\"\n\u001b[1;32m-> 1322\u001b[1;33m         \u001b[0mX\u001b[0m\u001b[1;33m,\u001b[0m \u001b[0my\u001b[0m\u001b[1;33m,\u001b[0m \u001b[0mgroups\u001b[0m \u001b[1;33m=\u001b[0m \u001b[0mindexable\u001b[0m\u001b[1;33m(\u001b[0m\u001b[0mX\u001b[0m\u001b[1;33m,\u001b[0m \u001b[0my\u001b[0m\u001b[1;33m,\u001b[0m \u001b[0mgroups\u001b[0m\u001b[1;33m)\u001b[0m\u001b[1;33m\u001b[0m\u001b[1;33m\u001b[0m\u001b[0m\n\u001b[0m\u001b[0;32m   1323\u001b[0m         \u001b[1;32mfor\u001b[0m \u001b[0mtrain\u001b[0m\u001b[1;33m,\u001b[0m \u001b[0mtest\u001b[0m \u001b[1;32min\u001b[0m \u001b[0mself\u001b[0m\u001b[1;33m.\u001b[0m\u001b[0m_iter_indices\u001b[0m\u001b[1;33m(\u001b[0m\u001b[0mX\u001b[0m\u001b[1;33m,\u001b[0m \u001b[0my\u001b[0m\u001b[1;33m,\u001b[0m \u001b[0mgroups\u001b[0m\u001b[1;33m)\u001b[0m\u001b[1;33m:\u001b[0m\u001b[1;33m\u001b[0m\u001b[1;33m\u001b[0m\u001b[0m\n\u001b[0;32m   1324\u001b[0m             \u001b[1;32myield\u001b[0m \u001b[0mtrain\u001b[0m\u001b[1;33m,\u001b[0m \u001b[0mtest\u001b[0m\u001b[1;33m\u001b[0m\u001b[1;33m\u001b[0m\u001b[0m\n",
      "\u001b[1;32m~\\Anaconda3\\lib\\site-packages\\sklearn\\utils\\validation.py\u001b[0m in \u001b[0;36mindexable\u001b[1;34m(*iterables)\u001b[0m\n\u001b[0;32m    228\u001b[0m         \u001b[1;32melse\u001b[0m\u001b[1;33m:\u001b[0m\u001b[1;33m\u001b[0m\u001b[1;33m\u001b[0m\u001b[0m\n\u001b[0;32m    229\u001b[0m             \u001b[0mresult\u001b[0m\u001b[1;33m.\u001b[0m\u001b[0mappend\u001b[0m\u001b[1;33m(\u001b[0m\u001b[0mnp\u001b[0m\u001b[1;33m.\u001b[0m\u001b[0marray\u001b[0m\u001b[1;33m(\u001b[0m\u001b[0mX\u001b[0m\u001b[1;33m)\u001b[0m\u001b[1;33m)\u001b[0m\u001b[1;33m\u001b[0m\u001b[1;33m\u001b[0m\u001b[0m\n\u001b[1;32m--> 230\u001b[1;33m     \u001b[0mcheck_consistent_length\u001b[0m\u001b[1;33m(\u001b[0m\u001b[1;33m*\u001b[0m\u001b[0mresult\u001b[0m\u001b[1;33m)\u001b[0m\u001b[1;33m\u001b[0m\u001b[1;33m\u001b[0m\u001b[0m\n\u001b[0m\u001b[0;32m    231\u001b[0m     \u001b[1;32mreturn\u001b[0m \u001b[0mresult\u001b[0m\u001b[1;33m\u001b[0m\u001b[1;33m\u001b[0m\u001b[0m\n\u001b[0;32m    232\u001b[0m \u001b[1;33m\u001b[0m\u001b[0m\n",
      "\u001b[1;32m~\\Anaconda3\\lib\\site-packages\\sklearn\\utils\\validation.py\u001b[0m in \u001b[0;36mcheck_consistent_length\u001b[1;34m(*arrays)\u001b[0m\n\u001b[0;32m    203\u001b[0m     \u001b[1;32mif\u001b[0m \u001b[0mlen\u001b[0m\u001b[1;33m(\u001b[0m\u001b[0muniques\u001b[0m\u001b[1;33m)\u001b[0m \u001b[1;33m>\u001b[0m \u001b[1;36m1\u001b[0m\u001b[1;33m:\u001b[0m\u001b[1;33m\u001b[0m\u001b[1;33m\u001b[0m\u001b[0m\n\u001b[0;32m    204\u001b[0m         raise ValueError(\"Found input variables with inconsistent numbers of\"\n\u001b[1;32m--> 205\u001b[1;33m                          \" samples: %r\" % [int(l) for l in lengths])\n\u001b[0m\u001b[0;32m    206\u001b[0m \u001b[1;33m\u001b[0m\u001b[0m\n\u001b[0;32m    207\u001b[0m \u001b[1;33m\u001b[0m\u001b[0m\n",
      "\u001b[1;31mValueError\u001b[0m: Found input variables with inconsistent numbers of samples: [114605, 229211]"
     ]
    }
   ],
   "source": [
    "X_train_reduce, X_test_reduce, y_train_reduce, y_test_reduce = train_test_split(X_train_all, y_train_all, test_size = 0.5, random_state=0, stratify=y)"
   ]
  },
  {
   "cell_type": "code",
   "execution_count": null,
   "metadata": {},
   "outputs": [],
   "source": [
    "from collections import Counter\n",
    "\n",
    "c_train = Counter(y_train)\n",
    "[(i, c_train[i] / len(y_train)) for i in c_train]\n"
   ]
  },
  {
   "cell_type": "code",
   "execution_count": null,
   "metadata": {},
   "outputs": [],
   "source": [
    "c_test = Counter(y_test)\n",
    "[(i, c_test[i] / len(y_test)) for i in c_test]"
   ]
  },
  {
   "cell_type": "code",
   "execution_count": null,
   "metadata": {},
   "outputs": [],
   "source": [
    "from imblearn.over_sampling import SMOTE\n",
    "X_resampled, y_resampled = SMOTE().fit_resample(X_train, y_train)\n",
    "print(sorted(Counter(y_resampled).items()))"
   ]
  },
  {
   "cell_type": "code",
   "execution_count": null,
   "metadata": {},
   "outputs": [],
   "source": [
    "# Create the classifier: logreg\n",
    "logreg = LogisticRegression(multi_class='multinomial',solver='lbfgs', max_iter=1000000000)\n",
    "\n",
    "# Fit the classifier to the training data\n",
    "logreg.fit(X_train, y_train)\n",
    "\n",
    "# Predict the labels of the training and test sets\n",
    "y_pred_test = logreg.predict(X_test)\n",
    "y_pred_train = logreg.predict(X_train)\n",
    "\n",
    "# Compute and print the confusion matrices and classification reports for the Training set\n",
    "print('Train Set')\n",
    "print(confusion_matrix(y_train, y_pred_train))\n",
    "print(classification_report(y_train, y_pred_train))\n",
    "print(logreg.score(X_train,y_train))\n",
    "\n",
    "# Compute and print the confusion matrices and classification reports for the Test set\n",
    "print('Test Set')\n",
    "print(confusion_matrix(y_test, y_pred_test))\n",
    "print(classification_report(y_test, y_pred_test))\n",
    "print(logreg.score(X_test,y_test))\n"
   ]
  },
  {
   "cell_type": "markdown",
   "metadata": {},
   "source": [
    "print('Train Set')\n",
    "print(confusion_matrix(y_train, y_pred_train))\n",
    "print(classification_report(y_train, y_pred_train))\n",
    "print(logreg.score(X_train,y_train))"
   ]
  },
  {
   "cell_type": "markdown",
   "metadata": {},
   "source": [
    "\"\"Both the training set and the test set show an overall accuracy of 0.877. The test set has the following results:\n",
    "1. Accidental Ingestion: 88% of the predictions were correct. \n",
    "2. Adverse Reaction: 92% of the predictions were correct.\n",
    "3. Alcohol (<21): 99% of the predictions were correct. Because there are so few of these cases, it is odd that the precision is high. There is a possibility of overfitting, but the recall is not good so there is no way to correct it.\n",
    "4. Malicious Poisoning: 50% of the predictions were correct. The accuracy of this class is affected by the low number of cases in the data set. More cases in this class would have resulted in a higher prediction rate.\n",
    "5. Other: 87% of the predictions were correct.\n",
    "6. Overmedication: 74% of the predictions were correct.\n",
    "7. Seeking Detox: 77% of the predictions were correct.\n",
    "8. Suicide Attempt: 74% of the predictions were correct.\n",
    "\n",
    "This classifier does not do well with classes that have lower amounts of cases, which is when the data set is imbalanced.\n",
    "\n",
    "In the Extended Analysis notebook, we will explore approaches with the goal of improving the results obtained in this baseline modeling notebook. We will try combining resampling methods with Logistic Regression (LGR) and Random Forest Classifiers (RFC)."
   ]
  },
  {
   "cell_type": "code",
   "execution_count": null,
   "metadata": {},
   "outputs": [],
   "source": [
    "import pickle\n",
    "filenameX = 'CP1_Model_X_train_reduce'\n",
    "outfile = open(filenameX,'w+b')\n",
    "pickle.dump(X_train,outfile)\n",
    "outfile.close()\n",
    "\n",
    "#X_train, X_test, y_train, y_test"
   ]
  },
  {
   "cell_type": "code",
   "execution_count": null,
   "metadata": {},
   "outputs": [],
   "source": [
    "filenameXtest = 'CP1_Model_X_test_reduce'\n",
    "outfile = open(filenameXtest,'w+b')\n",
    "pickle.dump(X_test,outfile)\n",
    "outfile.close()"
   ]
  },
  {
   "cell_type": "code",
   "execution_count": null,
   "metadata": {},
   "outputs": [],
   "source": [
    "filenameYtest = 'CP1_Model_y_test_reduce'\n",
    "outfile = open(filenameYtest,'wb')\n",
    "pickle.dump(y_test,outfile)\n",
    "outfile.close()"
   ]
  },
  {
   "cell_type": "code",
   "execution_count": null,
   "metadata": {},
   "outputs": [],
   "source": [
    "filenameYtrain = 'CP1_Model_y_train_reduce'\n",
    "outfile = open(filenameYtrain,'wb')\n",
    "pickle.dump(y_train,outfile)\n",
    "outfile.close()"
   ]
  },
  {
   "cell_type": "code",
   "execution_count": null,
   "metadata": {},
   "outputs": [],
   "source": []
  }
 ],
 "metadata": {
  "kernelspec": {
   "display_name": "Python 3",
   "language": "python",
   "name": "python3"
  },
  "language_info": {
   "codemirror_mode": {
    "name": "ipython",
    "version": 3
   },
   "file_extension": ".py",
   "mimetype": "text/x-python",
   "name": "python",
   "nbconvert_exporter": "python",
   "pygments_lexer": "ipython3",
   "version": "3.7.4"
  }
 },
 "nbformat": 4,
 "nbformat_minor": 2
}
