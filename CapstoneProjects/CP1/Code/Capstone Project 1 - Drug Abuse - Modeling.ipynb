{
 "cells": [
  {
   "cell_type": "markdown",
   "metadata": {},
   "source": [
    "\"\"Now that we've seen the story that the data tells, it's time to build the model. First we import the libraries and the data file.\"\""
   ]
  },
  {
   "cell_type": "code",
   "execution_count": 1,
   "metadata": {},
   "outputs": [
    {
     "name": "stdout",
     "output_type": "stream",
     "text": [
      "Loaded\n"
     ]
    }
   ],
   "source": [
    "%matplotlib inline\n",
    "import numpy as np\n",
    "import scipy as sp\n",
    "import matplotlib as mpl\n",
    "import matplotlib.cm as cm\n",
    "from matplotlib.colors import ListedColormap\n",
    "import matplotlib.pyplot as plt\n",
    "import pandas as pd\n",
    "import seaborn as sns\n",
    "import sklearn.model_selection\n",
    "from sklearn.model_selection import train_test_split\n",
    "from sklearn.linear_model import LinearRegression\n",
    "from sklearn.model_selection import cross_val_score\n",
    "from sklearn.linear_model import Lasso\n",
    "from sklearn.metrics import classification_report\n",
    "from sklearn.metrics import confusion_matrix\n",
    "from sklearn.linear_model import LogisticRegression\n",
    "from sklearn.metrics import roc_curve\n",
    "from sklearn.model_selection import GridSearchCV\n",
    "from sklearn.preprocessing import scale\n",
    "\n",
    "print(\"Loaded\")"
   ]
  },
  {
   "cell_type": "code",
   "execution_count": 2,
   "metadata": {},
   "outputs": [],
   "source": [
    "df = pd.read_csv (r\"C:\\Users\\Laura-Black\\Documents\\PhD\\Data Scientist\\Springboard\\Capstone Projects\\Drug Abuse ED Visits\\Output files\\Capstone1DataWrangling.csv\", \n",
    "                     index_col=0, low_memory=False)"
   ]
  },
  {
   "cell_type": "code",
   "execution_count": 3,
   "metadata": {},
   "outputs": [
    {
     "name": "stdout",
     "output_type": "stream",
     "text": [
      "The number of data points =\n",
      " METRO           229211\n",
      "STRATA          229211\n",
      "PSU             229211\n",
      "REPLICATE       229211\n",
      "CASEWGT         229211\n",
      "                 ...  \n",
      "ALCOHOL         229211\n",
      "NONALCILL       229211\n",
      "PHARMA          229211\n",
      "NONMEDPHARMA    229211\n",
      "ALLABUSE        229211\n",
      "Length: 86, dtype: int64\n",
      "The number of features =  86\n",
      "The target is Case Type.\n",
      "The number of distinct values in the target =  8\n",
      "They are:  ['Other' 'Adverse Reaction' 'Seeking Detox' 'Suicide Attempt'\n",
      " 'Overmedication' 'Accidential Ingestion' 'Alcohol (Age<21)'\n",
      " 'Malicious Poisoning']\n",
      "The relative size of each class =  Adverse Reaction         0.384345\n",
      "Other                    0.382303\n",
      "Overmedication           0.079167\n",
      "Seeking Detox            0.064748\n",
      "Suicide Attempt          0.039409\n",
      "Alcohol (Age<21)         0.032376\n",
      "Accidential Ingestion    0.014192\n",
      "Malicious Poisoning      0.003460\n",
      "Name: CASETYPE, dtype: float64\n"
     ]
    }
   ],
   "source": [
    "print('The number of data points =\\n', df.count())\n",
    "print('The number of features = ',len(df.columns))\n",
    "print('The target is Case Type.')\n",
    "print('The number of distinct values in the target = ', df['CASETYPE'].nunique())\n",
    "print('They are: ',df.CASETYPE.unique())\n",
    "print('The relative size of each class = ', df['CASETYPE'].value_counts(normalize=True))"
   ]
  },
  {
   "cell_type": "code",
   "execution_count": 4,
   "metadata": {},
   "outputs": [
    {
     "name": "stdout",
     "output_type": "stream",
     "text": [
      "              METRO  STRATA  PSU  REPLICATE   CASEWGT  PSUFRAME   AGECAT  \\\n",
      "CASEID                                                                     \n",
      "1          New York      25  108          2  0.942635         3    18-20   \n",
      "2          New York      29  129          2  5.992011         9     > 65   \n",
      "3       Date County       7   25          1  4.723172         6     > 65   \n",
      "4           Phoenix       8   29          2  4.080147         6  06-11\\t   \n",
      "5            Boston      22   94          2  5.177709        10    25-29   \n",
      "\n",
      "           SEX      RACE  YEAR  ...       DRUGID_22        ROUTE_22  \\\n",
      "CASEID                          ...                                   \n",
      "1         Male     Black  2011  ...  Not Applicable  Not Applicable   \n",
      "2         Male  Hispanic  2011  ...  Not Applicable  Not Applicable   \n",
      "3       Female     Black  2011  ...  Not Applicable  Not Applicable   \n",
      "4         Male  Hispanic  2011  ...  Not Applicable  Not Applicable   \n",
      "5         Male  Hispanic  2011  ...  Not Applicable  Not Applicable   \n",
      "\n",
      "            TOXTEST_22          CASETYPE        DISPOSITION ALCOHOL  \\\n",
      "CASEID                                                                \n",
      "1       Not Applicable             Other  Detox, Psych Unit     Yes   \n",
      "2       Not Applicable  Adverse Reaction    Other Inpatient      No   \n",
      "3       Not Applicable  Adverse Reaction           D/C Home      No   \n",
      "4       Not Applicable  Adverse Reaction    Other Inpatient      No   \n",
      "5       Not Applicable             Other        Transferred     Yes   \n",
      "\n",
      "               NONALCILL              PHARMA           NONMEDPHARMA  \\\n",
      "CASEID                                                                \n",
      "1          Illicit Drugs  No Pharmaceuticals  No Non-Medical Pharma   \n",
      "2       No Illicit Drugs     Pharmaceuticals  No Non-Medical Pharma   \n",
      "3       No Illicit Drugs     Pharmaceuticals  No Non-Medical Pharma   \n",
      "4       No Illicit Drugs     Pharmaceuticals  No Non-Medical Pharma   \n",
      "5          Illicit Drugs  No Pharmaceuticals  No Non-Medical Pharma   \n",
      "\n",
      "                              ALLABUSE  \n",
      "CASEID                                  \n",
      "1           All Misuse & Abuse Episode  \n",
      "2       Not All Misuse & Abuse Episode  \n",
      "3       Not All Misuse & Abuse Episode  \n",
      "4       Not All Misuse & Abuse Episode  \n",
      "5           All Misuse & Abuse Episode  \n",
      "\n",
      "[5 rows x 86 columns]\n",
      "<class 'pandas.core.frame.DataFrame'>\n",
      "Int64Index: 229211 entries, 1 to 229211\n",
      "Data columns (total 86 columns):\n",
      "METRO           229211 non-null object\n",
      "STRATA          229211 non-null int64\n",
      "PSU             229211 non-null int64\n",
      "REPLICATE       229211 non-null int64\n",
      "CASEWGT         229211 non-null float64\n",
      "PSUFRAME        229211 non-null int64\n",
      "AGECAT          229211 non-null object\n",
      "SEX             229211 non-null object\n",
      "RACE            229211 non-null object\n",
      "YEAR            229211 non-null int64\n",
      "QUARTER         229211 non-null int64\n",
      "DAYPART         229211 non-null object\n",
      "NUMSUBS         229211 non-null int64\n",
      "DRUGID_1        229211 non-null object\n",
      "ROUTE_1         229211 non-null object\n",
      "TOXTEST_1       229211 non-null object\n",
      "DRUGID_2        229211 non-null object\n",
      "ROUTE_2         229211 non-null object\n",
      "TOXTEST_2       229211 non-null object\n",
      "DRUGID_3        229211 non-null object\n",
      "ROUTE_3         229211 non-null object\n",
      "TOXTEST_3       229211 non-null object\n",
      "DRUGID_4        229211 non-null object\n",
      "ROUTE_4         229211 non-null object\n",
      "TOXTEST_4       229211 non-null object\n",
      "DRUGID_5        229211 non-null object\n",
      "ROUTE_5         229211 non-null object\n",
      "TOXTEST_5       229211 non-null object\n",
      "DRUGID_6        229211 non-null object\n",
      "ROUTE_6         229211 non-null object\n",
      "TOXTEST_6       229211 non-null object\n",
      "DRUGID_7        229211 non-null object\n",
      "ROUTE_7         229211 non-null object\n",
      "TOXTEST_7       229211 non-null object\n",
      "DRUGID_8        229211 non-null object\n",
      "ROUTE_8         229211 non-null object\n",
      "TOXTEST_8       229211 non-null object\n",
      "DRUGID_9        229211 non-null object\n",
      "ROUTE_9         229211 non-null object\n",
      "TOXTEST_9       229211 non-null object\n",
      "DRUGID_10       229211 non-null object\n",
      "ROUTE_10        229211 non-null object\n",
      "TOXTEST_10      229211 non-null object\n",
      "DRUGID_11       229211 non-null object\n",
      "ROUTE_11        229211 non-null object\n",
      "TOXTEST_11      229211 non-null object\n",
      "DRUGID_12       229211 non-null object\n",
      "ROUTE_12        229211 non-null object\n",
      "TOXTEST_12      229211 non-null object\n",
      "DRUGID_13       229211 non-null object\n",
      "ROUTE_13        229211 non-null object\n",
      "TOXTEST_13      229211 non-null object\n",
      "DRUGID_14       229211 non-null object\n",
      "ROUTE_14        229211 non-null object\n",
      "TOXTEST_14      229211 non-null object\n",
      "DRUGID_15       229211 non-null object\n",
      "ROUTE_15        229211 non-null object\n",
      "TOXTEST_15      229211 non-null object\n",
      "DRUGID_16       229211 non-null object\n",
      "ROUTE_16        229211 non-null object\n",
      "TOXTEST_16      229211 non-null object\n",
      "DRUGID_17       229211 non-null object\n",
      "ROUTE_17        229211 non-null object\n",
      "TOXTEST_17      229211 non-null object\n",
      "DRUGID_18       229211 non-null object\n",
      "ROUTE_18        229211 non-null object\n",
      "TOXTEST_18      229211 non-null object\n",
      "DRUGID_19       229211 non-null object\n",
      "ROUTE_19        229211 non-null object\n",
      "TOXTEST_19      229211 non-null object\n",
      "DRUGID_20       229211 non-null object\n",
      "ROUTE_20        229211 non-null object\n",
      "TOXTEST_20      229211 non-null object\n",
      "DRUGID_21       229211 non-null object\n",
      "ROUTE_21        229211 non-null object\n",
      "TOXTEST_21      229211 non-null object\n",
      "DRUGID_22       229211 non-null object\n",
      "ROUTE_22        229211 non-null object\n",
      "TOXTEST_22      229211 non-null object\n",
      "CASETYPE        229211 non-null object\n",
      "DISPOSITION     229211 non-null object\n",
      "ALCOHOL         229211 non-null object\n",
      "NONALCILL       229211 non-null object\n",
      "PHARMA          229211 non-null object\n",
      "NONMEDPHARMA    229211 non-null object\n",
      "ALLABUSE        229211 non-null object\n",
      "dtypes: float64(1), int64(7), object(78)\n",
      "memory usage: 152.1+ MB\n",
      "None\n"
     ]
    }
   ],
   "source": [
    "print(df.head())\n",
    "print(df.info())"
   ]
  },
  {
   "cell_type": "markdown",
   "metadata": {},
   "source": [
    "\"\"Now, we will create the design matrix (X) and the target vector (y) for\n",
    "the associated classification problem.\"\""
   ]
  },
  {
   "cell_type": "code",
   "execution_count": 5,
   "metadata": {},
   "outputs": [],
   "source": [
    "x_split = df.drop('CASETYPE', axis=1)\n",
    "\n",
    "X = pd.get_dummies(x_split,drop_first=True)"
   ]
  },
  {
   "cell_type": "code",
   "execution_count": 6,
   "metadata": {},
   "outputs": [],
   "source": [
    "y = df['CASETYPE'].values"
   ]
  },
  {
   "cell_type": "markdown",
   "metadata": {},
   "source": [
    "\"\"Next, we will split the data into test and training sets.\"\""
   ]
  },
  {
   "cell_type": "code",
   "execution_count": 7,
   "metadata": {},
   "outputs": [],
   "source": [
    "X_train, X_test, y_train, y_test = train_test_split(X, y, test_size = 0.4, random_state=42, stratify=y)"
   ]
  },
  {
   "cell_type": "code",
   "execution_count": 8,
   "metadata": {},
   "outputs": [
    {
     "name": "stdout",
     "output_type": "stream",
     "text": [
      "The size of each class in the training set =  Counter({'Adverse Reaction': 52857, 'Other': 52577, 'Overmedication': 10887, 'Seeking Detox': 8904, 'Suicide Attempt': 5420, 'Alcohol (Age<21)': 4453, 'Accidential Ingestion': 1952, 'Malicious Poisoning': 476})\n",
      "\n",
      " The size of each class in the test set =  Counter({'Adverse Reaction': 35239, 'Other': 35051, 'Overmedication': 7259, 'Seeking Detox': 5937, 'Suicide Attempt': 3613, 'Alcohol (Age<21)': 2968, 'Accidential Ingestion': 1301, 'Malicious Poisoning': 317})\n"
     ]
    }
   ],
   "source": [
    "from collections import Counter\n",
    "print('The size of each class in the training set = ', Counter(y_train))\n",
    "\n",
    "print('\\n The size of each class in the test set = ', Counter(y_test))\n"
   ]
  },
  {
   "cell_type": "code",
   "execution_count": 9,
   "metadata": {},
   "outputs": [
    {
     "name": "stderr",
     "output_type": "stream",
     "text": [
      "C:\\Users\\Laura-Black\\Anaconda3\\lib\\site-packages\\sklearn\\linear_model\\logistic.py:947: ConvergenceWarning: lbfgs failed to converge. Increase the number of iterations.\n",
      "  \"of iterations.\", ConvergenceWarning)\n"
     ]
    },
    {
     "name": "stdout",
     "output_type": "stream",
     "text": [
      "Train Set\n",
      "[[   23  1817     0     0    51     0     1    60]\n",
      " [    1 52298     0     0    10     0    94   454]\n",
      " [    0     0  4453     0     0     0     0     0]\n",
      " [    0     0     0    11   449    16     0     0]\n",
      " [    0     0     0     1 49022  2735   819     0]\n",
      " [    0     0     0     0  3081  7806     0     0]\n",
      " [    0   899    17     0  3141     0  4518   329]\n",
      " [    0  1975    27     0   384     0   460  2574]]\n",
      "                       precision    recall  f1-score   support\n",
      "\n",
      "Accidential Ingestion       0.96      0.01      0.02      1952\n",
      "     Adverse Reaction       0.92      0.99      0.95     52857\n",
      "     Alcohol (Age<21)       0.99      1.00      1.00      4453\n",
      "  Malicious Poisoning       0.92      0.02      0.05       476\n",
      "                Other       0.87      0.93      0.90     52577\n",
      "       Overmedication       0.74      0.72      0.73     10887\n",
      "        Seeking Detox       0.77      0.51      0.61      8904\n",
      "      Suicide Attempt       0.75      0.47      0.58      5420\n",
      "\n",
      "             accuracy                           0.88    137526\n",
      "            macro avg       0.86      0.58      0.60    137526\n",
      "         weighted avg       0.87      0.88      0.86    137526\n",
      "\n",
      "0.8776885825225775\n",
      "Test Set\n",
      "[[   15  1227     0     0    25     0     1    33]\n",
      " [    1 34861     0     0     8     0    62   307]\n",
      " [    0     0  2968     0     0     0     0     0]\n",
      " [    0     0     0     3   300    14     0     0]\n",
      " [    0     0     0     2 32705  1800   544     0]\n",
      " [    0     0     0     1  2050  5208     0     0]\n",
      " [    0   547    10     0  2101     0  3039   240]\n",
      " [    1  1386    11     0   258     0   303  1654]]\n",
      "                       precision    recall  f1-score   support\n",
      "\n",
      "Accidential Ingestion       0.88      0.01      0.02      1301\n",
      "     Adverse Reaction       0.92      0.99      0.95     35239\n",
      "     Alcohol (Age<21)       0.99      1.00      1.00      2968\n",
      "  Malicious Poisoning       0.50      0.01      0.02       317\n",
      "                Other       0.87      0.93      0.90     35051\n",
      "       Overmedication       0.74      0.72      0.73      7259\n",
      "        Seeking Detox       0.77      0.51      0.61      5937\n",
      "      Suicide Attempt       0.74      0.46      0.57      3613\n",
      "\n",
      "             accuracy                           0.88     91685\n",
      "            macro avg       0.80      0.58      0.60     91685\n",
      "         weighted avg       0.87      0.88      0.86     91685\n",
      "\n",
      "0.8774935921906528\n"
     ]
    }
   ],
   "source": [
    "# Create the classifier: logreg\n",
    "logreg = LogisticRegression(multi_class='multinomial',solver='lbfgs', max_iter=1000000000)\n",
    "\n",
    "# Fit the classifier to the training data\n",
    "logreg.fit(X_train, y_train)\n",
    "\n",
    "# Predict the labels of the training and test sets\n",
    "y_pred_test = logreg.predict(X_test)\n",
    "y_pred_train = logreg.predict(X_train)\n",
    "\n",
    "# Compute and print the confusion matrices and classification reports for the Training set\n",
    "print('Train Set')\n",
    "print(confusion_matrix(y_train, y_pred_train))\n",
    "print(classification_report(y_train, y_pred_train))\n",
    "print(logreg.score(X_train,y_train))\n",
    "\n",
    "# Compute and print the confusion matrices and classification reports for the Test set\n",
    "print('Test Set')\n",
    "print(confusion_matrix(y_test, y_pred_test))\n",
    "print(classification_report(y_test, y_pred_test))\n",
    "print(logreg.score(X_test,y_test))\n"
   ]
  },
  {
   "cell_type": "markdown",
   "metadata": {},
   "source": [
    "print('Train Set')\n",
    "print(confusion_matrix(y_train, y_pred_train))\n",
    "print(classification_report(y_train, y_pred_train))\n",
    "print(logreg.score(X_train,y_train))"
   ]
  },
  {
   "cell_type": "markdown",
   "metadata": {},
   "source": [
    "\"\"Both the training set and the test set show an overall accuracy of 0.877, which is a good result for this model. The test set has the following results:\n",
    "1. Accidental Ingestion: 88% of the predictions were correct. \n",
    "2. Adverse Reaction: 92% of the predictions were correct.\n",
    "3. Alcohol (<21): 99% of the predictions were correct.\n",
    "4. Malicious Poisoning: 50% of the predictions were correct. The accuracy of this class is affected by the low number of cases in the data set. More cases in this class would have resulted in a higher prediction rate.\n",
    "5. Other: 87% of the predictions were correct.\n",
    "6. Overmedication: 74% of the predictions were correct.\n",
    "7. Seeking Detox: 77% of the predictions were correct.\n",
    "8. Suicide Attempt: 74% of the predictions were correct.\n",
    "Based on this model hosptials can know with reasonable accuracy the distribution of types of drug abuse cases for which they will need to prepare. \n",
    "\n",
    "In the Extended Analysis notebook, we will explore approaches with the goal of improving the\n",
    "results obtained in this baseline modeling notebook."
   ]
  }
 ],
 "metadata": {
  "kernelspec": {
   "display_name": "Python 3",
   "language": "python",
   "name": "python3"
  },
  "language_info": {
   "codemirror_mode": {
    "name": "ipython",
    "version": 3
   },
   "file_extension": ".py",
   "mimetype": "text/x-python",
   "name": "python",
   "nbconvert_exporter": "python",
   "pygments_lexer": "ipython3",
   "version": "3.7.4"
  }
 },
 "nbformat": 4,
 "nbformat_minor": 2
}
