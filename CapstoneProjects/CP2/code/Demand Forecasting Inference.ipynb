{
 "cells": [
  {
   "cell_type": "code",
   "execution_count": 5,
   "metadata": {},
   "outputs": [
    {
     "name": "stdout",
     "output_type": "stream",
     "text": [
      "   Week_Start          17          46         54        111          201  \\\n",
      "0  2018-07-01  164.285714  306.382979  23.971429  14.605714  1833.333333   \n",
      "1  2018-07-08  400.000000  405.263158  41.581197  14.506410  2071.428571   \n",
      "2  2018-07-15  127.777778  267.857143  75.186916  14.125683  2166.666667   \n",
      "3  2018-07-22  157.894737  304.000000  53.584158  12.157895  2611.111111   \n",
      "4  2018-07-29  191.304348  265.517241  70.456522  18.466321  3000.000000   \n",
      "\n",
      "    424         561        566        574  ...     121302      124669  \\\n",
      "0   0.0  141.666667  42.403670  70.560000  ...  64.880952  145.714286   \n",
      "1   0.0  300.000000  31.111111  70.000000  ...  67.647059  164.285714   \n",
      "2   6.0  244.444444  39.909091  62.666667  ...  65.060241  166.666667   \n",
      "3  10.0  205.263158  44.587156  62.181818  ...  60.294118  161.290323   \n",
      "4   0.0  180.555556  37.019231  64.000000  ...  62.126316  150.000000   \n",
      "\n",
      "       124670       125900      129090     129751     129752     130173  \\\n",
      "0   97.560976  1047.428571  255.555556  30.947674  37.929412  79.000000   \n",
      "1   81.578947  1178.181818  200.000000  33.195266  38.753425  77.173913   \n",
      "2  112.222222  1508.108108  193.333333  35.953052  27.871429  92.156863   \n",
      "3  105.555556   953.846154  138.461538  34.962963  47.250000  75.000000   \n",
      "4   94.565217   820.540541  300.000000  28.227778  31.180723  68.367347   \n",
      "\n",
      "       130175      130177  \n",
      "0  109.146341  145.000000  \n",
      "1   95.121951  158.181818  \n",
      "2  111.988095  163.636364  \n",
      "3   79.104478  124.561404  \n",
      "4   93.023256  132.352941  \n",
      "\n",
      "[5 rows x 93 columns]\n",
      "<class 'pandas.core.frame.DataFrame'>\n",
      "RangeIndex: 105 entries, 0 to 104\n",
      "Data columns (total 93 columns):\n",
      "Week_Start    105 non-null object\n",
      "17            105 non-null float64\n",
      "46            105 non-null float64\n",
      "54            105 non-null float64\n",
      "111           105 non-null float64\n",
      "201           105 non-null float64\n",
      "424           105 non-null float64\n",
      "561           105 non-null float64\n",
      "566           105 non-null float64\n",
      "574           105 non-null float64\n",
      "648           105 non-null float64\n",
      "661           105 non-null float64\n",
      "753           105 non-null float64\n",
      "932           105 non-null float64\n",
      "952           105 non-null float64\n",
      "1001          105 non-null float64\n",
      "1398          105 non-null float64\n",
      "1819          105 non-null float64\n",
      "3043          105 non-null float64\n",
      "6873          105 non-null float64\n",
      "7348          105 non-null float64\n",
      "8414          105 non-null float64\n",
      "9314          105 non-null float64\n",
      "19956         105 non-null float64\n",
      "20417         105 non-null float64\n",
      "22722         105 non-null float64\n",
      "25814         105 non-null float64\n",
      "30248         105 non-null float64\n",
      "31490         105 non-null float64\n",
      "32015         105 non-null float64\n",
      "35104         105 non-null float64\n",
      "35145         105 non-null float64\n",
      "35148         105 non-null float64\n",
      "35153         105 non-null float64\n",
      "42859         105 non-null float64\n",
      "42860         105 non-null float64\n",
      "50989         105 non-null float64\n",
      "52807         105 non-null float64\n",
      "58563         105 non-null float64\n",
      "59417         105 non-null float64\n",
      "60318         105 non-null float64\n",
      "61369         105 non-null float64\n",
      "61393         105 non-null float64\n",
      "64961         105 non-null float64\n",
      "65006         105 non-null float64\n",
      "65580         105 non-null float64\n",
      "69380         105 non-null float64\n",
      "70444         105 non-null float64\n",
      "73225         105 non-null float64\n",
      "73228         105 non-null float64\n",
      "80942         105 non-null float64\n",
      "81474         105 non-null float64\n",
      "82834         105 non-null float64\n",
      "84486         105 non-null float64\n",
      "84788         105 non-null float64\n",
      "86223         105 non-null float64\n",
      "86224         105 non-null float64\n",
      "86626         105 non-null float64\n",
      "86658         105 non-null float64\n",
      "87481         105 non-null float64\n",
      "100107        105 non-null float64\n",
      "100771        105 non-null float64\n",
      "100833        105 non-null float64\n",
      "100907        105 non-null float64\n",
      "100938        105 non-null float64\n",
      "101019        105 non-null float64\n",
      "101245        105 non-null float64\n",
      "101322        105 non-null float64\n",
      "101441        105 non-null float64\n",
      "104493        105 non-null float64\n",
      "105044        105 non-null float64\n",
      "107042        105 non-null float64\n",
      "107816        105 non-null float64\n",
      "108449        105 non-null float64\n",
      "108503        105 non-null float64\n",
      "108626        105 non-null float64\n",
      "111323        105 non-null float64\n",
      "112479        105 non-null float64\n",
      "112564        105 non-null float64\n",
      "112566        105 non-null float64\n",
      "113995        105 non-null float64\n",
      "114044        105 non-null float64\n",
      "118326        105 non-null float64\n",
      "121302        105 non-null float64\n",
      "124669        105 non-null float64\n",
      "124670        105 non-null float64\n",
      "125900        105 non-null float64\n",
      "129090        105 non-null float64\n",
      "129751        105 non-null float64\n",
      "129752        105 non-null float64\n",
      "130173        105 non-null float64\n",
      "130175        105 non-null float64\n",
      "130177        105 non-null float64\n",
      "dtypes: float64(92), object(1)\n",
      "memory usage: 76.4+ KB\n",
      "None\n"
     ]
    }
   ],
   "source": [
    "import pandas as pd\n",
    "import numpy as np\n",
    "import matplotlib.pyplot as plt\n",
    "import seaborn as sns\n",
    "from datetime import date, timedelta\n",
    "from datetime import datetime\n",
    "from scipy import stats as st\n",
    "import statsmodels as sm\n",
    "\n",
    "\n",
    "df = pd.read_csv (r\"...\\Demand Forecasting Data Story Pivot.csv\", low_memory=False, skipinitialspace=True)\n",
    "\n",
    "#df.reset_index(inplace=True, drop=True)\n",
    "\n",
    "print(df.head())\n",
    "print(df.info())\n"
   ]
  },
  {
   "cell_type": "code",
   "execution_count": 6,
   "metadata": {},
   "outputs": [
    {
     "name": "stdout",
     "output_type": "stream",
     "text": [
      "<class 'pandas.core.frame.DataFrame'>\n",
      "RangeIndex: 105 entries, 0 to 104\n",
      "Data columns (total 93 columns):\n",
      "Week_Start    105 non-null datetime64[ns]\n",
      "17            105 non-null float64\n",
      "46            105 non-null float64\n",
      "54            105 non-null float64\n",
      "111           105 non-null float64\n",
      "201           105 non-null float64\n",
      "424           105 non-null float64\n",
      "561           105 non-null float64\n",
      "566           105 non-null float64\n",
      "574           105 non-null float64\n",
      "648           105 non-null float64\n",
      "661           105 non-null float64\n",
      "753           105 non-null float64\n",
      "932           105 non-null float64\n",
      "952           105 non-null float64\n",
      "1001          105 non-null float64\n",
      "1398          105 non-null float64\n",
      "1819          105 non-null float64\n",
      "3043          105 non-null float64\n",
      "6873          105 non-null float64\n",
      "7348          105 non-null float64\n",
      "8414          105 non-null float64\n",
      "9314          105 non-null float64\n",
      "19956         105 non-null float64\n",
      "20417         105 non-null float64\n",
      "22722         105 non-null float64\n",
      "25814         105 non-null float64\n",
      "30248         105 non-null float64\n",
      "31490         105 non-null float64\n",
      "32015         105 non-null float64\n",
      "35104         105 non-null float64\n",
      "35145         105 non-null float64\n",
      "35148         105 non-null float64\n",
      "35153         105 non-null float64\n",
      "42859         105 non-null float64\n",
      "42860         105 non-null float64\n",
      "50989         105 non-null float64\n",
      "52807         105 non-null float64\n",
      "58563         105 non-null float64\n",
      "59417         105 non-null float64\n",
      "60318         105 non-null float64\n",
      "61369         105 non-null float64\n",
      "61393         105 non-null float64\n",
      "64961         105 non-null float64\n",
      "65006         105 non-null float64\n",
      "65580         105 non-null float64\n",
      "69380         105 non-null float64\n",
      "70444         105 non-null float64\n",
      "73225         105 non-null float64\n",
      "73228         105 non-null float64\n",
      "80942         105 non-null float64\n",
      "81474         105 non-null float64\n",
      "82834         105 non-null float64\n",
      "84486         105 non-null float64\n",
      "84788         105 non-null float64\n",
      "86223         105 non-null float64\n",
      "86224         105 non-null float64\n",
      "86626         105 non-null float64\n",
      "86658         105 non-null float64\n",
      "87481         105 non-null float64\n",
      "100107        105 non-null float64\n",
      "100771        105 non-null float64\n",
      "100833        105 non-null float64\n",
      "100907        105 non-null float64\n",
      "100938        105 non-null float64\n",
      "101019        105 non-null float64\n",
      "101245        105 non-null float64\n",
      "101322        105 non-null float64\n",
      "101441        105 non-null float64\n",
      "104493        105 non-null float64\n",
      "105044        105 non-null float64\n",
      "107042        105 non-null float64\n",
      "107816        105 non-null float64\n",
      "108449        105 non-null float64\n",
      "108503        105 non-null float64\n",
      "108626        105 non-null float64\n",
      "111323        105 non-null float64\n",
      "112479        105 non-null float64\n",
      "112564        105 non-null float64\n",
      "112566        105 non-null float64\n",
      "113995        105 non-null float64\n",
      "114044        105 non-null float64\n",
      "118326        105 non-null float64\n",
      "121302        105 non-null float64\n",
      "124669        105 non-null float64\n",
      "124670        105 non-null float64\n",
      "125900        105 non-null float64\n",
      "129090        105 non-null float64\n",
      "129751        105 non-null float64\n",
      "129752        105 non-null float64\n",
      "130173        105 non-null float64\n",
      "130175        105 non-null float64\n",
      "130177        105 non-null float64\n",
      "dtypes: datetime64[ns](1), float64(92)\n",
      "memory usage: 76.4 KB\n",
      "None\n"
     ]
    }
   ],
   "source": [
    "#convert Week Start colum to datetime data type\n",
    "\n",
    "df['Week_Start'] = pd.to_datetime(df['Week_Start'])\n",
    "\n",
    "print(df.info())"
   ]
  },
  {
   "cell_type": "markdown",
   "metadata": {},
   "source": [
    "## The difference in the means of the quantities of 2 different catheters will be analyzed:\n",
    "\n",
    "### Ho: mu1 = mu2, Ha: mu1 != mu2"
   ]
  },
  {
   "cell_type": "code",
   "execution_count": 9,
   "metadata": {},
   "outputs": [
    {
     "name": "stdout",
     "output_type": "stream",
     "text": [
      "0      40.683761\n",
      "1      37.072289\n",
      "2      36.554348\n",
      "3      40.463636\n",
      "4      24.926316\n",
      "         ...    \n",
      "100    32.414894\n",
      "101    30.248062\n",
      "102    38.165217\n",
      "103    36.320388\n",
      "104    46.500000\n",
      "Name: 42859, Length: 105, dtype: float64\n",
      "df42860 =  0       78.154639\n",
      "1       67.023810\n",
      "2       77.571429\n",
      "3       94.946809\n",
      "4       59.694737\n",
      "          ...    \n",
      "100     61.197531\n",
      "101     58.414894\n",
      "102     75.372727\n",
      "103     64.781609\n",
      "104    118.333333\n",
      "Name: 42860, Length: 105, dtype: float64\n"
     ]
    }
   ],
   "source": [
    "df42859 = df['42859']\n",
    "print(df42859)\n",
    "\n",
    "df42860 = df['42860']\n",
    "print('df42860 = ', df42860)"
   ]
  },
  {
   "cell_type": "code",
   "execution_count": 11,
   "metadata": {},
   "outputs": [
    {
     "data": {
      "text/plain": [
       "<matplotlib.axes._subplots.AxesSubplot at 0x1816ed1b988>"
      ]
     },
     "execution_count": 11,
     "metadata": {},
     "output_type": "execute_result"
    },
    {
     "data": {
      "image/png": "[encoded data removed]",
      "text/plain": [
       "<Figure size 432x288 with 1 Axes>"
      ]
     },
     "metadata": {
      "needs_background": "light"
     },
     "output_type": "display_data"
    }
   ],
   "source": [
    "df42859.hist()"
   ]
  },
  {
   "cell_type": "code",
   "execution_count": 12,
   "metadata": {},
   "outputs": [
    {
     "data": {
      "text/plain": [
       "<matplotlib.axes._subplots.AxesSubplot at 0x181012a3fc8>"
      ]
     },
     "execution_count": 12,
     "metadata": {},
     "output_type": "execute_result"
    },
    {
     "data": {
      "image/png": "[encoded data removed]",
      "text/plain": [
       "<Figure size 432x288 with 1 Axes>"
      ]
     },
     "metadata": {
      "needs_background": "light"
     },
     "output_type": "display_data"
    }
   ],
   "source": [
    "df42860.hist()"
   ]
  },
  {
   "cell_type": "code",
   "execution_count": 17,
   "metadata": {},
   "outputs": [],
   "source": [
    "dftemp1 = df[df['42859'] < 100]\n",
    "dftemp2 = df[df['42860'] < 115]"
   ]
  },
  {
   "cell_type": "code",
   "execution_count": 19,
   "metadata": {},
   "outputs": [
    {
     "name": "stdout",
     "output_type": "stream",
     "text": [
      "df42859 = \n",
      "     Week_Start          17          46         54        111          201  \\\n",
      "0   2018-07-01  164.285714  306.382979  23.971429  14.605714  1833.333333   \n",
      "1   2018-07-08  400.000000  405.263158  41.581197  14.506410  2071.428571   \n",
      "2   2018-07-15  127.777778  267.857143  75.186916  14.125683  2166.666667   \n",
      "3   2018-07-22  157.894737  304.000000  53.584158  12.157895  2611.111111   \n",
      "4   2018-07-29  191.304348  265.517241  70.456522  18.466321  3000.000000   \n",
      "..         ...         ...         ...        ...        ...          ...   \n",
      "100 2020-05-31  176.923077  310.869565  41.547170  13.500000  1250.000000   \n",
      "101 2020-06-07  233.333333  271.111111  43.992126  21.793548  1950.000000   \n",
      "102 2020-06-14  338.888889  289.795918  54.240310  12.017751  2300.000000   \n",
      "103 2020-06-21  188.235294  275.555556  47.500000  14.012500  1428.571429   \n",
      "104 2020-06-28  100.000000  475.000000  37.250000   9.043478  3000.000000   \n",
      "\n",
      "      424         561        566        574  ...     121302      124669  \\\n",
      "0     0.0  141.666667  42.403670  70.560000  ...  64.880952  145.714286   \n",
      "1     0.0  300.000000  31.111111  70.000000  ...  67.647059  164.285714   \n",
      "2     6.0  244.444444  39.909091  62.666667  ...  65.060241  166.666667   \n",
      "3    10.0  205.263158  44.587156  62.181818  ...  60.294118  161.290323   \n",
      "4     0.0  180.555556  37.019231  64.000000  ...  62.126316  150.000000   \n",
      "..    ...         ...        ...        ...  ...        ...         ...   \n",
      "100  20.0  236.842105  43.883495  61.384615  ...  66.393443  300.000000   \n",
      "101   0.0  220.000000  40.769231  61.854545  ...  59.259259  241.666667   \n",
      "102  13.5  188.461538  46.730769  53.529412  ...  57.432432  348.275862   \n",
      "103   1.0  257.142857  45.575221  56.571429  ...  55.645161  154.545455   \n",
      "104   0.0  100.000000  51.111111  42.000000  ...  81.250000  100.000000   \n",
      "\n",
      "         124670       125900      129090     129751     129752     130173  \\\n",
      "0     97.560976  1047.428571  255.555556  30.947674  37.929412  79.000000   \n",
      "1     81.578947  1178.181818  200.000000  33.195266  38.753425  77.173913   \n",
      "2    112.222222  1508.108108  193.333333  35.953052  27.871429  92.156863   \n",
      "3    105.555556   953.846154  138.461538  34.962963  47.250000  75.000000   \n",
      "4     94.565217   820.540541  300.000000  28.227778  31.180723  68.367347   \n",
      "..          ...          ...         ...        ...        ...        ...   \n",
      "100  108.888889  1248.000000  157.142857  43.007246  37.931034  76.666667   \n",
      "101   93.548387  1026.964286  157.142857  35.698925  45.344828  70.535714   \n",
      "102  100.735294  1424.651163  222.222222  63.379888  78.736264  70.175439   \n",
      "103   93.750000   560.930233  200.000000  48.571429  48.717949  75.510204   \n",
      "104  181.250000   350.000000    0.000000  96.428571  67.857143  50.000000   \n",
      "\n",
      "         130175      130177  \n",
      "0    109.146341  145.000000  \n",
      "1     95.121951  158.181818  \n",
      "2    111.988095  163.636364  \n",
      "3     79.104478  124.561404  \n",
      "4     93.023256  132.352941  \n",
      "..          ...         ...  \n",
      "100   99.358974  130.769231  \n",
      "101   88.461538  129.411765  \n",
      "102   96.195652  125.641026  \n",
      "103   91.216216  143.181818  \n",
      "104  114.285714  116.666667  \n",
      "\n",
      "[104 rows x 93 columns]\n",
      "df42860 = \n",
      "     Week_Start          17          46         54        111          201  \\\n",
      "0   2018-07-01  164.285714  306.382979  23.971429  14.605714  1833.333333   \n",
      "1   2018-07-08  400.000000  405.263158  41.581197  14.506410  2071.428571   \n",
      "2   2018-07-15  127.777778  267.857143  75.186916  14.125683  2166.666667   \n",
      "3   2018-07-22  157.894737  304.000000  53.584158  12.157895  2611.111111   \n",
      "4   2018-07-29  191.304348  265.517241  70.456522  18.466321  3000.000000   \n",
      "..         ...         ...         ...        ...        ...          ...   \n",
      "99  2020-05-24  133.333333  297.777778  26.205607  13.176101  1928.571429   \n",
      "100 2020-05-31  176.923077  310.869565  41.547170  13.500000  1250.000000   \n",
      "101 2020-06-07  233.333333  271.111111  43.992126  21.793548  1950.000000   \n",
      "102 2020-06-14  338.888889  289.795918  54.240310  12.017751  2300.000000   \n",
      "103 2020-06-21  188.235294  275.555556  47.500000  14.012500  1428.571429   \n",
      "\n",
      "      424         561        566        574  ...     121302      124669  \\\n",
      "0     0.0  141.666667  42.403670  70.560000  ...  64.880952  145.714286   \n",
      "1     0.0  300.000000  31.111111  70.000000  ...  67.647059  164.285714   \n",
      "2     6.0  244.444444  39.909091  62.666667  ...  65.060241  166.666667   \n",
      "3    10.0  205.263158  44.587156  62.181818  ...  60.294118  161.290323   \n",
      "4     0.0  180.555556  37.019231  64.000000  ...  62.126316  150.000000   \n",
      "..    ...         ...        ...        ...  ...        ...         ...   \n",
      "99   30.0  276.666667  33.308824  61.444444  ...  65.789474  238.461538   \n",
      "100  20.0  236.842105  43.883495  61.384615  ...  66.393443  300.000000   \n",
      "101   0.0  220.000000  40.769231  61.854545  ...  59.259259  241.666667   \n",
      "102  13.5  188.461538  46.730769  53.529412  ...  57.432432  348.275862   \n",
      "103   1.0  257.142857  45.575221  56.571429  ...  55.645161  154.545455   \n",
      "\n",
      "         124670       125900      129090     129751     129752     130173  \\\n",
      "0     97.560976  1047.428571  255.555556  30.947674  37.929412  79.000000   \n",
      "1     81.578947  1178.181818  200.000000  33.195266  38.753425  77.173913   \n",
      "2    112.222222  1508.108108  193.333333  35.953052  27.871429  92.156863   \n",
      "3    105.555556   953.846154  138.461538  34.962963  47.250000  75.000000   \n",
      "4     94.565217   820.540541  300.000000  28.227778  31.180723  68.367347   \n",
      "..          ...          ...         ...        ...        ...        ...   \n",
      "99    93.076923  1052.264151  240.000000  34.918478  35.698925  63.492063   \n",
      "100  108.888889  1248.000000  157.142857  43.007246  37.931034  76.666667   \n",
      "101   93.548387  1026.964286  157.142857  35.698925  45.344828  70.535714   \n",
      "102  100.735294  1424.651163  222.222222  63.379888  78.736264  70.175439   \n",
      "103   93.750000   560.930233  200.000000  48.571429  48.717949  75.510204   \n",
      "\n",
      "         130175      130177  \n",
      "0    109.146341  145.000000  \n",
      "1     95.121951  158.181818  \n",
      "2    111.988095  163.636364  \n",
      "3     79.104478  124.561404  \n",
      "4     93.023256  132.352941  \n",
      "..          ...         ...  \n",
      "99    94.565217  123.611111  \n",
      "100   99.358974  130.769231  \n",
      "101   88.461538  129.411765  \n",
      "102   96.195652  125.641026  \n",
      "103   91.216216  143.181818  \n",
      "\n",
      "[103 rows x 93 columns]\n"
     ]
    }
   ],
   "source": [
    "df42859_no_outliers = dftemp1['42859']\n",
    "print('df42859 = \\n', df42859)\n",
    "\n",
    "df42860_no_outliers = dftemp2['42860']\n",
    "print('df42860 = \\n', df42860)"
   ]
  },
  {
   "cell_type": "code",
   "execution_count": 21,
   "metadata": {},
   "outputs": [
    {
     "data": {
      "text/plain": [
       "<matplotlib.axes._subplots.AxesSubplot at 0x181038a7688>"
      ]
     },
     "execution_count": 21,
     "metadata": {},
     "output_type": "execute_result"
    },
    {
     "data": {
      "image/png": "[encoded data removed]",
      "text/plain": [
       "<Figure size 432x288 with 1 Axes>"
      ]
     },
     "metadata": {
      "needs_background": "light"
     },
     "output_type": "display_data"
    }
   ],
   "source": [
    "df42859_no_outliers.hist()"
   ]
  },
  {
   "cell_type": "code",
   "execution_count": 22,
   "metadata": {},
   "outputs": [
    {
     "data": {
      "text/plain": [
       "<matplotlib.axes._subplots.AxesSubplot at 0x18104991088>"
      ]
     },
     "execution_count": 22,
     "metadata": {},
     "output_type": "execute_result"
    },
    {
     "data": {
      "image/png": "[encoded data removed]",
      "text/plain": [
       "<Figure size 432x288 with 1 Axes>"
      ]
     },
     "metadata": {
      "needs_background": "light"
     },
     "output_type": "display_data"
    }
   ],
   "source": [
    "df42860_no_outliers.hist()"
   ]
  },
  {
   "cell_type": "code",
   "execution_count": 27,
   "metadata": {},
   "outputs": [
    {
     "name": "stdout",
     "output_type": "stream",
     "text": [
      "stat = -37.572, p-value = 0.000\n",
      "Reject Ho. The means are not equal.\n"
     ]
    }
   ],
   "source": [
    "#Hypothesis Test\n",
    "\n",
    "stat, p = st.ttest_ind(df42859_no_outliers, df42860_no_outliers)\n",
    "print('stat = %.3f, p-value = %.3f' % (stat, p))\n",
    "if p > 0.05:\n",
    "    print('Fail to Reject Ho.')\n",
    "else:\n",
    "    print('Reject Ho. The means are not equal.')"
   ]
  },
  {
   "cell_type": "markdown",
   "metadata": {},
   "source": [
    "## The difference in the means of the quantities of 2 different gowns will be analyzed:\n",
    "\n",
    "### Ho: mu1 = mu2, Ha: mu1 != mu2"
   ]
  },
  {
   "cell_type": "code",
   "execution_count": 31,
   "metadata": {},
   "outputs": [],
   "source": [
    "df753 = df['753']\n",
    "df52807 = df['52807']"
   ]
  },
  {
   "cell_type": "code",
   "execution_count": 29,
   "metadata": {},
   "outputs": [
    {
     "data": {
      "text/plain": [
       "<matplotlib.axes._subplots.AxesSubplot at 0x18104b4b788>"
      ]
     },
     "execution_count": 29,
     "metadata": {},
     "output_type": "execute_result"
    },
    {
     "data": {
      "image/png": "[encoded data removed]",
      "text/plain": [
       "<Figure size 432x288 with 1 Axes>"
      ]
     },
     "metadata": {
      "needs_background": "light"
     },
     "output_type": "display_data"
    }
   ],
   "source": [
    "df753.hist()"
   ]
  },
  {
   "cell_type": "code",
   "execution_count": 32,
   "metadata": {},
   "outputs": [
    {
     "data": {
      "text/plain": [
       "<matplotlib.axes._subplots.AxesSubplot at 0x18104b81c48>"
      ]
     },
     "execution_count": 32,
     "metadata": {},
     "output_type": "execute_result"
    },
    {
     "data": {
      "image/png": "[encoded data removed]",
      "text/plain": [
       "<Figure size 432x288 with 1 Axes>"
      ]
     },
     "metadata": {
      "needs_background": "light"
     },
     "output_type": "display_data"
    }
   ],
   "source": [
    "df52807.hist()"
   ]
  },
  {
   "cell_type": "code",
   "execution_count": 33,
   "metadata": {},
   "outputs": [],
   "source": [
    "dftemp3 = df[df['753'] < 100]\n",
    "dftemp4 = df[df['52807'] < 500]"
   ]
  },
  {
   "cell_type": "code",
   "execution_count": 34,
   "metadata": {},
   "outputs": [],
   "source": [
    "df753_no_out = dftemp3['753']\n",
    "df52807_no_out = dftemp4['52807']"
   ]
  },
  {
   "cell_type": "code",
   "execution_count": 35,
   "metadata": {},
   "outputs": [
    {
     "data": {
      "text/plain": [
       "<matplotlib.axes._subplots.AxesSubplot at 0x18104bc1248>"
      ]
     },
     "execution_count": 35,
     "metadata": {},
     "output_type": "execute_result"
    },
    {
     "data": {
      "image/png": "[encoded data removed]",
      "text/plain": [
       "<Figure size 432x288 with 1 Axes>"
      ]
     },
     "metadata": {
      "needs_background": "light"
     },
     "output_type": "display_data"
    }
   ],
   "source": [
    "df753_no_out.hist()"
   ]
  },
  {
   "cell_type": "code",
   "execution_count": 36,
   "metadata": {},
   "outputs": [
    {
     "data": {
      "text/plain": [
       "<matplotlib.axes._subplots.AxesSubplot at 0x18104c28b88>"
      ]
     },
     "execution_count": 36,
     "metadata": {},
     "output_type": "execute_result"
    },
    {
     "data": {
      "image/png": "[encoded data removed]",
      "text/plain": [
       "<Figure size 432x288 with 1 Axes>"
      ]
     },
     "metadata": {
      "needs_background": "light"
     },
     "output_type": "display_data"
    }
   ],
   "source": [
    "df52807_no_out.hist()"
   ]
  },
  {
   "cell_type": "code",
   "execution_count": 37,
   "metadata": {},
   "outputs": [
    {
     "name": "stdout",
     "output_type": "stream",
     "text": [
      "stat = -19.149, p-value = 0.000\n",
      "Reject Ho. The means are not equal.\n"
     ]
    }
   ],
   "source": [
    "#Hypothesis Test\n",
    "\n",
    "stat, p = st.ttest_ind(df753_no_out, df52807_no_out)\n",
    "print('stat = %.3f, p-value = %.3f' % (stat, p))\n",
    "if p > 0.05:\n",
    "    print('Fail to Reject Ho.')\n",
    "else:\n",
    "    print('Reject Ho. The means are not equal.')"
   ]
  },
  {
   "cell_type": "markdown",
   "metadata": {},
   "source": [
    "## The difference in the means of the quantities of 2 different hyprodermic syringes will be analyzed:\n",
    "\n",
    "### Ho: mu1 = mu2, Ha: mu1 != mu2"
   ]
  },
  {
   "cell_type": "code",
   "execution_count": 38,
   "metadata": {},
   "outputs": [],
   "source": [
    "df130173 = df['130173']\n",
    "df130175 = df['130175']"
   ]
  },
  {
   "cell_type": "code",
   "execution_count": 39,
   "metadata": {},
   "outputs": [
    {
     "data": {
      "text/plain": [
       "<matplotlib.axes._subplots.AxesSubplot at 0x18104cb7688>"
      ]
     },
     "execution_count": 39,
     "metadata": {},
     "output_type": "execute_result"
    },
    {
     "data": {
      "image/png": "[encoded data removed]",
      "text/plain": [
       "<Figure size 432x288 with 1 Axes>"
      ]
     },
     "metadata": {
      "needs_background": "light"
     },
     "output_type": "display_data"
    }
   ],
   "source": [
    "df130173.hist()"
   ]
  },
  {
   "cell_type": "code",
   "execution_count": 40,
   "metadata": {},
   "outputs": [
    {
     "data": {
      "text/plain": [
       "<matplotlib.axes._subplots.AxesSubplot at 0x1816ec53248>"
      ]
     },
     "execution_count": 40,
     "metadata": {},
     "output_type": "execute_result"
    },
    {
     "data": {
      "image/png": "[encoded data removed]",
      "text/plain": [
       "<Figure size 432x288 with 1 Axes>"
      ]
     },
     "metadata": {
      "needs_background": "light"
     },
     "output_type": "display_data"
    }
   ],
   "source": [
    "df130175.hist()"
   ]
  },
  {
   "cell_type": "code",
   "execution_count": 41,
   "metadata": {},
   "outputs": [
    {
     "name": "stdout",
     "output_type": "stream",
     "text": [
      "stat = -16.241, p-value = 0.000\n",
      "Reject Ho. The means are not equal.\n"
     ]
    }
   ],
   "source": [
    "#Hypothesis Test\n",
    "\n",
    "stat, p = st.ttest_ind(df130173, df130175)\n",
    "print('stat = %.3f, p-value = %.3f' % (stat, p))\n",
    "if p > 0.05:\n",
    "    print('Fail to Reject Ho.')\n",
    "else:\n",
    "    print('Reject Ho. The means are not equal.')"
   ]
  },
  {
   "cell_type": "code",
   "execution_count": null,
   "metadata": {},
   "outputs": [],
   "source": []
  }
 ],
 "metadata": {
  "kernelspec": {
   "display_name": "Python 3",
   "language": "python",
   "name": "python3"
  },
  "language_info": {
   "codemirror_mode": {
    "name": "ipython",
    "version": 3
   },
   "file_extension": ".py",
   "mimetype": "text/x-python",
   "name": "python",
   "nbconvert_exporter": "python",
   "pygments_lexer": "ipython3",
   "version": "3.7.4"
  }
 },
 "nbformat": 4,
 "nbformat_minor": 2
}
