{
 "cells": [
  {
   "cell_type": "markdown",
   "metadata": {},
   "source": [
    "This data was obtained from the client’s inventory database using Microsoft SQL Server. A two-year history of the products that have been issued from the distribution center to the facilities was obtained."
   ]
  },
  {
   "cell_type": "code",
   "execution_count": 1,
   "metadata": {
    "scrolled": true
   },
   "outputs": [
    {
     "name": "stdout",
     "output_type": "stream",
     "text": [
      "   Company   Item                     Description  Qty STOCK_UOM Trans_UOM  \\\n",
      "0      240  59417  UNDERPAD INCONT 24X17IN         300      EA        CS     \n",
      "1      300  59417  UNDERPAD INCONT 24X17IN         300      EA        CS     \n",
      "2      300  59417  UNDERPAD INCONT 24X17IN         300      EA        CS     \n",
      "3      300  59417  UNDERPAD INCONT 24X17IN         900      EA        CS     \n",
      "4      300  59417  UNDERPAD INCONT 24X17IN         600      EA        CS     \n",
      "\n",
      "   UNIT_COST  Ext Amount TRANS_DATE Item Type  ... ALT_UOM_CONV_03  \\\n",
      "0     0.0601       18.03   5/4/2020         I  ...               0   \n",
      "1     0.0601       18.03   5/5/2020         I  ...               0   \n",
      "2     0.0601       18.03   5/5/2020         I  ...               0   \n",
      "3     0.0601       54.09  5/27/2020         I  ...               0   \n",
      "4     0.0601       36.06  6/18/2020         I  ...               0   \n",
      "\n",
      "   ALT_UOM_CONV_04 ALT_UOM_CONV_05  ALT_UOM_CONV_06  BUY_FL_01  BUY_FL_02  \\\n",
      "0                0               0                0        NaN        1.0   \n",
      "1                0               0                0        NaN        1.0   \n",
      "2                0               0                0        NaN        1.0   \n",
      "3                0               0                0        NaN        1.0   \n",
      "4                0               0                0        NaN        1.0   \n",
      "\n",
      "  BUY_FL_03 BUY_FL_04  BUY_FL_05  BUY_FL_06  \n",
      "0       NaN       NaN        NaN        NaN  \n",
      "1       NaN       NaN        NaN        NaN  \n",
      "2       NaN       NaN        NaN        NaN  \n",
      "3       NaN       NaN        NaN        NaN  \n",
      "4       NaN       NaN        NaN        NaN  \n",
      "\n",
      "[5 rows x 44 columns]\n",
      "<class 'pandas.core.frame.DataFrame'>\n",
      "RangeIndex: 109157 entries, 0 to 109156\n",
      "Data columns (total 44 columns):\n",
      "Company            109157 non-null int64\n",
      "Item               109157 non-null int64\n",
      "Description        109157 non-null object\n",
      "Qty                109157 non-null int64\n",
      "STOCK_UOM          109157 non-null object\n",
      "Trans_UOM          109157 non-null object\n",
      "UNIT_COST          109157 non-null float64\n",
      "Ext Amount         109157 non-null float64\n",
      "TRANS_DATE         109157 non-null object\n",
      "Item Type          109157 non-null object\n",
      "Sys                109157 non-null object\n",
      "Document           109157 non-null int64\n",
      "Doc Type           109157 non-null object\n",
      "Line Nbr           109157 non-null int64\n",
      "Req Nbr            109157 non-null int64\n",
      "From Location      109157 non-null int64\n",
      "Req Location       109157 non-null object\n",
      "TRACKING_FL_01     109157 non-null object\n",
      "TRACKING_FL_02     0 non-null float64\n",
      "TRACKING_FL_03     0 non-null float64\n",
      "TRACKING_FL_04     0 non-null float64\n",
      "TRACKING_FL_05     0 non-null float64\n",
      "TRACKING_FL_06     0 non-null float64\n",
      "TRACKING_FL_07     0 non-null float64\n",
      "TRACKING_FL_08     0 non-null float64\n",
      "TRACKING_FL_09     0 non-null float64\n",
      "ALT_UOM_01         109157 non-null object\n",
      "ALT_UOM_02         109157 non-null object\n",
      "ALT_UOM_03         62186 non-null object\n",
      "ALT_UOM_04         2170 non-null object\n",
      "ALT_UOM_05         0 non-null float64\n",
      "ALT_UOM_06         0 non-null float64\n",
      "ALT_UOM_CONV_01    109157 non-null int64\n",
      "ALT_UOM_CONV_02    109157 non-null int64\n",
      "ALT_UOM_CONV_03    109157 non-null int64\n",
      "ALT_UOM_CONV_04    109157 non-null int64\n",
      "ALT_UOM_CONV_05    109157 non-null int64\n",
      "ALT_UOM_CONV_06    109157 non-null int64\n",
      "BUY_FL_01          76953 non-null float64\n",
      "BUY_FL_02          97459 non-null float64\n",
      "BUY_FL_03          60950 non-null float64\n",
      "BUY_FL_04          2170 non-null float64\n",
      "BUY_FL_05          0 non-null float64\n",
      "BUY_FL_06          0 non-null float64\n",
      "dtypes: float64(18), int64(13), object(13)\n",
      "memory usage: 36.6+ MB\n",
      "None\n"
     ]
    }
   ],
   "source": [
    "import pandas as pd\n",
    "import numpy as np\n",
    "import matplotlib.pyplot as plt\n",
    "import seaborn as sns\n",
    "from datetime import date, timedelta\n",
    "from datetime import datetime\n",
    "\n",
    "\n",
    "df = pd.read_csv (r\"F:\\Shr_Priv\\Materials_Mgt_DataTeam\\Laura Eshee\\Demand Forcasting\\Demand Forecasting Query Sample.csv\", index_col=0, low_memory=False, skipinitialspace=True)\n",
    "\n",
    "df.reset_index(inplace=True, drop=True)\n",
    "\n",
    "print(df.head())\n",
    "print(df.info())\n"
   ]
  },
  {
   "cell_type": "markdown",
   "metadata": {},
   "source": [
    "The date column was imported as an object data type. It will now be converted to a datetime data type."
   ]
  },
  {
   "cell_type": "code",
   "execution_count": 2,
   "metadata": {},
   "outputs": [
    {
     "name": "stdout",
     "output_type": "stream",
     "text": [
      "<class 'pandas.core.frame.DataFrame'>\n",
      "RangeIndex: 109157 entries, 0 to 109156\n",
      "Data columns (total 44 columns):\n",
      "Company            109157 non-null int64\n",
      "Item               109157 non-null int64\n",
      "Description        109157 non-null object\n",
      "Qty                109157 non-null int64\n",
      "STOCK_UOM          109157 non-null object\n",
      "Trans_UOM          109157 non-null object\n",
      "UNIT_COST          109157 non-null float64\n",
      "Ext Amount         109157 non-null float64\n",
      "TRANS_DATE         109157 non-null datetime64[ns]\n",
      "Item Type          109157 non-null object\n",
      "Sys                109157 non-null object\n",
      "Document           109157 non-null int64\n",
      "Doc Type           109157 non-null object\n",
      "Line Nbr           109157 non-null int64\n",
      "Req Nbr            109157 non-null int64\n",
      "From Location      109157 non-null int64\n",
      "Req Location       109157 non-null object\n",
      "TRACKING_FL_01     109157 non-null object\n",
      "TRACKING_FL_02     0 non-null float64\n",
      "TRACKING_FL_03     0 non-null float64\n",
      "TRACKING_FL_04     0 non-null float64\n",
      "TRACKING_FL_05     0 non-null float64\n",
      "TRACKING_FL_06     0 non-null float64\n",
      "TRACKING_FL_07     0 non-null float64\n",
      "TRACKING_FL_08     0 non-null float64\n",
      "TRACKING_FL_09     0 non-null float64\n",
      "ALT_UOM_01         109157 non-null object\n",
      "ALT_UOM_02         109157 non-null object\n",
      "ALT_UOM_03         62186 non-null object\n",
      "ALT_UOM_04         2170 non-null object\n",
      "ALT_UOM_05         0 non-null float64\n",
      "ALT_UOM_06         0 non-null float64\n",
      "ALT_UOM_CONV_01    109157 non-null int64\n",
      "ALT_UOM_CONV_02    109157 non-null int64\n",
      "ALT_UOM_CONV_03    109157 non-null int64\n",
      "ALT_UOM_CONV_04    109157 non-null int64\n",
      "ALT_UOM_CONV_05    109157 non-null int64\n",
      "ALT_UOM_CONV_06    109157 non-null int64\n",
      "BUY_FL_01          76953 non-null float64\n",
      "BUY_FL_02          97459 non-null float64\n",
      "BUY_FL_03          60950 non-null float64\n",
      "BUY_FL_04          2170 non-null float64\n",
      "BUY_FL_05          0 non-null float64\n",
      "BUY_FL_06          0 non-null float64\n",
      "dtypes: datetime64[ns](1), float64(18), int64(13), object(12)\n",
      "memory usage: 36.6+ MB\n",
      "None\n"
     ]
    }
   ],
   "source": [
    "df['TRANS_DATE'] = pd.to_datetime(df['TRANS_DATE'])\n",
    "print(df.info())"
   ]
  },
  {
   "cell_type": "markdown",
   "metadata": {},
   "source": [
    "The client requested that the unit of measure (UOM) used for forecasting be the tracked UOM. The tracked UOM is denoted in the data by an X in one of the BUY_FL_ columns. The code below converts the transaction UOM to the tracked UOM."
   ]
  },
  {
   "cell_type": "code",
   "execution_count": 3,
   "metadata": {},
   "outputs": [
    {
     "name": "stdout",
     "output_type": "stream",
     "text": [
      "0         1\n",
      "1         1\n",
      "2         1\n",
      "3         1\n",
      "4         1\n",
      "         ..\n",
      "109152    1\n",
      "109153    1\n",
      "109154    1\n",
      "109155    1\n",
      "109156    1\n",
      "Name: Track_UOM_Conv, Length: 109157, dtype: int64\n"
     ]
    }
   ],
   "source": [
    "def conv(df):\n",
    "    if (df['BUY_FL_01'] == 'X'):\n",
    "        return df['ALT_UOM_CONV_01'].apply(pd.to_numeric, errors='coerce')\n",
    "    elif (df['BUY_FL_02'] == 'X'):\n",
    "        return df['ALT_UOM_CONV_02'].apply(pd.to_numeric, errors='coerce')\n",
    "    elif (df['BUY_FL_03'] == 'X'): \n",
    "        return df['ALT_UOM_CONV_03'].apply(pd.to_numeric, errors='coerce')\n",
    "    elif (df['BUY_FL_04'] == 'X'):\n",
    "        return df['ALT_UOM_CONV_04'].apply(pd.to_numeric, errors='coerce')         \n",
    "    elif (df['BUY_FL_05'] == 'X'): \n",
    "        return df['ALT_UOM_CONV_05'].apply(pd.to_numeric, errors='coerce')\n",
    "    elif (df['BUY_FL_06'] == 'X'):\n",
    "        return df['ALT_UOM_CONV_06'].apply(pd.to_numeric, errors='coerce')\n",
    "    else:\n",
    "        return 1\n",
    "                    \n",
    "df['Track_UOM_Conv'] = df.apply(conv, axis=1)\n",
    "                        \n",
    "print(df['Track_UOM_Conv'])"
   ]
  },
  {
   "cell_type": "markdown",
   "metadata": {},
   "source": [
    "Using the conversion amount calculated above, the transaction quantity is converted to the tracked UOM quantity by multiplying Qty by Track_UOM_Conv."
   ]
  },
  {
   "cell_type": "code",
   "execution_count": 4,
   "metadata": {},
   "outputs": [
    {
     "name": "stdout",
     "output_type": "stream",
     "text": [
      "0         300\n",
      "1         300\n",
      "2         300\n",
      "3         900\n",
      "4         600\n",
      "         ... \n",
      "109152    200\n",
      "109153    200\n",
      "109154    400\n",
      "109155    200\n",
      "109156    400\n",
      "Name: conv_qty, Length: 109157, dtype: int32\n",
      "<class 'pandas.core.frame.DataFrame'>\n",
      "RangeIndex: 109157 entries, 0 to 109156\n",
      "Data columns (total 46 columns):\n",
      "Company            109157 non-null int64\n",
      "Item               109157 non-null int64\n",
      "Description        109157 non-null object\n",
      "Qty                109157 non-null int64\n",
      "STOCK_UOM          109157 non-null object\n",
      "Trans_UOM          109157 non-null object\n",
      "UNIT_COST          109157 non-null float64\n",
      "Ext Amount         109157 non-null float64\n",
      "TRANS_DATE         109157 non-null datetime64[ns]\n",
      "Item Type          109157 non-null object\n",
      "Sys                109157 non-null object\n",
      "Document           109157 non-null int64\n",
      "Doc Type           109157 non-null object\n",
      "Line Nbr           109157 non-null int64\n",
      "Req Nbr            109157 non-null int64\n",
      "From Location      109157 non-null int64\n",
      "Req Location       109157 non-null object\n",
      "TRACKING_FL_01     109157 non-null object\n",
      "TRACKING_FL_02     0 non-null float64\n",
      "TRACKING_FL_03     0 non-null float64\n",
      "TRACKING_FL_04     0 non-null float64\n",
      "TRACKING_FL_05     0 non-null float64\n",
      "TRACKING_FL_06     0 non-null float64\n",
      "TRACKING_FL_07     0 non-null float64\n",
      "TRACKING_FL_08     0 non-null float64\n",
      "TRACKING_FL_09     0 non-null float64\n",
      "ALT_UOM_01         109157 non-null object\n",
      "ALT_UOM_02         109157 non-null object\n",
      "ALT_UOM_03         62186 non-null object\n",
      "ALT_UOM_04         2170 non-null object\n",
      "ALT_UOM_05         0 non-null float64\n",
      "ALT_UOM_06         0 non-null float64\n",
      "ALT_UOM_CONV_01    109157 non-null int64\n",
      "ALT_UOM_CONV_02    109157 non-null int64\n",
      "ALT_UOM_CONV_03    109157 non-null int64\n",
      "ALT_UOM_CONV_04    109157 non-null int64\n",
      "ALT_UOM_CONV_05    109157 non-null int64\n",
      "ALT_UOM_CONV_06    109157 non-null int64\n",
      "BUY_FL_01          76953 non-null float64\n",
      "BUY_FL_02          97459 non-null float64\n",
      "BUY_FL_03          60950 non-null float64\n",
      "BUY_FL_04          2170 non-null float64\n",
      "BUY_FL_05          0 non-null float64\n",
      "BUY_FL_06          0 non-null float64\n",
      "Track_UOM_Conv     109157 non-null int64\n",
      "conv_qty           109157 non-null int32\n",
      "dtypes: datetime64[ns](1), float64(18), int32(1), int64(14), object(12)\n",
      "memory usage: 37.9+ MB\n",
      "None\n"
     ]
    }
   ],
   "source": [
    "df['conv_qty'] = (df.Track_UOM_Conv * df.Qty).astype(int)\n",
    "\n",
    "print(df.conv_qty)\n",
    "print (df.info())"
   ]
  },
  {
   "cell_type": "markdown",
   "metadata": {},
   "source": [
    "The data wrangling is complete, and the wrangled data frame is saved into a csv file."
   ]
  },
  {
   "cell_type": "code",
   "execution_count": 5,
   "metadata": {},
   "outputs": [
    {
     "name": "stdout",
     "output_type": "stream",
     "text": [
      "<class 'pandas.core.frame.DataFrame'>\n",
      "RangeIndex: 109157 entries, 0 to 109156\n",
      "Data columns (total 46 columns):\n",
      "Company            109157 non-null int64\n",
      "Item               109157 non-null int64\n",
      "Description        109157 non-null object\n",
      "Qty                109157 non-null int64\n",
      "STOCK_UOM          109157 non-null object\n",
      "Trans_UOM          109157 non-null object\n",
      "UNIT_COST          109157 non-null float64\n",
      "Ext Amount         109157 non-null float64\n",
      "TRANS_DATE         109157 non-null datetime64[ns]\n",
      "Item Type          109157 non-null object\n",
      "Sys                109157 non-null object\n",
      "Document           109157 non-null int64\n",
      "Doc Type           109157 non-null object\n",
      "Line Nbr           109157 non-null int64\n",
      "Req Nbr            109157 non-null int64\n",
      "From Location      109157 non-null int64\n",
      "Req Location       109157 non-null object\n",
      "TRACKING_FL_01     109157 non-null object\n",
      "TRACKING_FL_02     0 non-null float64\n",
      "TRACKING_FL_03     0 non-null float64\n",
      "TRACKING_FL_04     0 non-null float64\n",
      "TRACKING_FL_05     0 non-null float64\n",
      "TRACKING_FL_06     0 non-null float64\n",
      "TRACKING_FL_07     0 non-null float64\n",
      "TRACKING_FL_08     0 non-null float64\n",
      "TRACKING_FL_09     0 non-null float64\n",
      "ALT_UOM_01         109157 non-null object\n",
      "ALT_UOM_02         109157 non-null object\n",
      "ALT_UOM_03         62186 non-null object\n",
      "ALT_UOM_04         2170 non-null object\n",
      "ALT_UOM_05         0 non-null float64\n",
      "ALT_UOM_06         0 non-null float64\n",
      "ALT_UOM_CONV_01    109157 non-null int64\n",
      "ALT_UOM_CONV_02    109157 non-null int64\n",
      "ALT_UOM_CONV_03    109157 non-null int64\n",
      "ALT_UOM_CONV_04    109157 non-null int64\n",
      "ALT_UOM_CONV_05    109157 non-null int64\n",
      "ALT_UOM_CONV_06    109157 non-null int64\n",
      "BUY_FL_01          76953 non-null float64\n",
      "BUY_FL_02          97459 non-null float64\n",
      "BUY_FL_03          60950 non-null float64\n",
      "BUY_FL_04          2170 non-null float64\n",
      "BUY_FL_05          0 non-null float64\n",
      "BUY_FL_06          0 non-null float64\n",
      "Track_UOM_Conv     109157 non-null int64\n",
      "conv_qty           109157 non-null int32\n",
      "dtypes: datetime64[ns](1), float64(18), int32(1), int64(14), object(12)\n",
      "memory usage: 37.9+ MB\n",
      "None\n"
     ]
    }
   ],
   "source": [
    "df.to_csv(\"F:\\Shr_Priv\\Materials_Mgt_DataTeam\\Laura Eshee\\Demand Forcasting\\Output Files\\Demand Forecasting Data Wrangling Sample.csv\")\n",
    "print (df.info())"
   ]
  },
  {
   "cell_type": "markdown",
   "metadata": {},
   "source": [
    "The data wrangling for this data set was fairly simple. First, the date column data type was converted from object to datetime. Then, the transaction UOM was converted to the tracked UOM and the tracked quantity was computed. The data set was then saved to a csv file. It is now ready for the next step."
   ]
  }
 ],
 "metadata": {
  "kernelspec": {
   "display_name": "Python 3",
   "language": "python",
   "name": "python3"
  },
  "language_info": {
   "codemirror_mode": {
    "name": "ipython",
    "version": 3
   },
   "file_extension": ".py",
   "mimetype": "text/x-python",
   "name": "python",
   "nbconvert_exporter": "python",
   "pygments_lexer": "ipython3",
   "version": "3.7.4"
  }
 },
 "nbformat": 4,
 "nbformat_minor": 2
}
